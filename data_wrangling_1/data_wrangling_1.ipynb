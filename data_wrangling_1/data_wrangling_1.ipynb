{
 "cells": [
  {
   "cell_type": "markdown",
   "id": "59bbbc46",
   "metadata": {},
   "source": [
    "## Table of Contents  \n",
    "1. Preliminary Work on the Datasets<br>\n",
    "2. Cleaning of Datasets<br>\n",
    "3. Data Manipulation to Obtain Subsets and Aggregated Values<br>\n",
    "    3.1 Sub Setting and Filtering<br>\n",
    "    3.2 Aggregated Values<br>\n",
    "    3.3 Additional Data<br>\n",
    "    3.4 Merging / Concatenating of Dataframes<br>\n",
    "4. Visualisation"
   ]
  },
  {
   "cell_type": "markdown",
   "id": "bf76c04a",
   "metadata": {},
   "source": [
    "# 1. <a name=\"1\"></a>Preliminary Work on the Datasets"
   ]
  },
  {
   "cell_type": "markdown",
   "id": "31a20db1",
   "metadata": {},
   "source": [
    "### Inspection of Dataset"
   ]
  },
  {
   "cell_type": "code",
   "execution_count": 241,
   "id": "5cd053fa",
   "metadata": {},
   "outputs": [],
   "source": [
    "# Libraries for data manipulation\n",
    "import pandas as pd\n",
    "import numpy as np\n",
    "\n",
    "# Libraries for visualisation\n",
    "import matplotlib.pyplot as plt\n",
    "import seaborn as sns"
   ]
  },
  {
   "cell_type": "code",
   "execution_count": 242,
   "id": "226e9880",
   "metadata": {},
   "outputs": [],
   "source": [
    "# Define a list of columns to read\n",
    "columnslist = ['company', 'location', 'dates', 'job-title', 'summary', 'pros', 'cons', 'advice-to-mgmt', 'overall-ratings', 'work-balance-stars', 'culture-values-stars', 'carrer-opportunities-stars', 'comp-benefit-stars','senior-mangemnet-stars', 'helpful-count']"
   ]
  },
  {
   "cell_type": "code",
   "execution_count": 243,
   "id": "3d3fe121",
   "metadata": {},
   "outputs": [],
   "source": [
    "# Read employee_reviews.csv with ISO-8859-1 encoding\n",
    "df = pd.read_csv('employee_reviews.csv', sep = ',', encoding = 'ISO-8859-1', usecols = columnslist)"
   ]
  },
  {
   "cell_type": "code",
   "execution_count": 244,
   "id": "f343a1a7",
   "metadata": {
    "scrolled": false
   },
   "outputs": [
    {
     "data": {
      "text/html": [
       "<div>\n",
       "<style scoped>\n",
       "    .dataframe tbody tr th:only-of-type {\n",
       "        vertical-align: middle;\n",
       "    }\n",
       "\n",
       "    .dataframe tbody tr th {\n",
       "        vertical-align: top;\n",
       "    }\n",
       "\n",
       "    .dataframe thead th {\n",
       "        text-align: right;\n",
       "    }\n",
       "</style>\n",
       "<table border=\"1\" class=\"dataframe\">\n",
       "  <thead>\n",
       "    <tr style=\"text-align: right;\">\n",
       "      <th></th>\n",
       "      <th>company</th>\n",
       "      <th>location</th>\n",
       "      <th>dates</th>\n",
       "      <th>job-title</th>\n",
       "      <th>summary</th>\n",
       "      <th>pros</th>\n",
       "      <th>cons</th>\n",
       "      <th>advice-to-mgmt</th>\n",
       "      <th>overall-ratings</th>\n",
       "      <th>work-balance-stars</th>\n",
       "      <th>culture-values-stars</th>\n",
       "      <th>carrer-opportunities-stars</th>\n",
       "      <th>comp-benefit-stars</th>\n",
       "      <th>senior-mangemnet-stars</th>\n",
       "      <th>helpful-count</th>\n",
       "    </tr>\n",
       "  </thead>\n",
       "  <tbody>\n",
       "    <tr>\n",
       "      <th>0</th>\n",
       "      <td>google</td>\n",
       "      <td>none</td>\n",
       "      <td>Dec 11, 2018</td>\n",
       "      <td>Current Employee - Anonymous Employee</td>\n",
       "      <td>Best Company to work for</td>\n",
       "      <td>People are smart and friendly</td>\n",
       "      <td>Bureaucracy is slowing things down</td>\n",
       "      <td>none</td>\n",
       "      <td>5</td>\n",
       "      <td>4</td>\n",
       "      <td>5</td>\n",
       "      <td>5</td>\n",
       "      <td>4</td>\n",
       "      <td>5</td>\n",
       "      <td>0</td>\n",
       "    </tr>\n",
       "    <tr>\n",
       "      <th>1</th>\n",
       "      <td>google</td>\n",
       "      <td>Mountain View, CA</td>\n",
       "      <td>Jun 21, 2013</td>\n",
       "      <td>Former Employee - Program Manager</td>\n",
       "      <td>Moving at the speed of light, burn out is inev...</td>\n",
       "      <td>1) Food, food, food. 15+ cafes on main campus ...</td>\n",
       "      <td>1) Work/life balance. What balance? All those ...</td>\n",
       "      <td>1) Don't dismiss emotional intelligence and ad...</td>\n",
       "      <td>4</td>\n",
       "      <td>2</td>\n",
       "      <td>3</td>\n",
       "      <td>3</td>\n",
       "      <td>5</td>\n",
       "      <td>3</td>\n",
       "      <td>2094</td>\n",
       "    </tr>\n",
       "    <tr>\n",
       "      <th>2</th>\n",
       "      <td>google</td>\n",
       "      <td>New York, NY</td>\n",
       "      <td>May 10, 2014</td>\n",
       "      <td>Current Employee - Software Engineer III</td>\n",
       "      <td>Great balance between big-company security and...</td>\n",
       "      <td>* If you're a software engineer, you're among ...</td>\n",
       "      <td>* It *is* becoming larger, and with it comes g...</td>\n",
       "      <td>Keep the focus on the user. Everything else wi...</td>\n",
       "      <td>5</td>\n",
       "      <td>5</td>\n",
       "      <td>4</td>\n",
       "      <td>5</td>\n",
       "      <td>5</td>\n",
       "      <td>4</td>\n",
       "      <td>949</td>\n",
       "    </tr>\n",
       "    <tr>\n",
       "      <th>3</th>\n",
       "      <td>google</td>\n",
       "      <td>Mountain View, CA</td>\n",
       "      <td>Feb 8, 2015</td>\n",
       "      <td>Current Employee - Anonymous Employee</td>\n",
       "      <td>The best place I've worked and also the most d...</td>\n",
       "      <td>You can't find a more well-regarded company th...</td>\n",
       "      <td>I live in SF so the commute can take between 1...</td>\n",
       "      <td>Keep on NOT micromanaging - that is a huge ben...</td>\n",
       "      <td>5</td>\n",
       "      <td>2</td>\n",
       "      <td>5</td>\n",
       "      <td>5</td>\n",
       "      <td>4</td>\n",
       "      <td>5</td>\n",
       "      <td>498</td>\n",
       "    </tr>\n",
       "    <tr>\n",
       "      <th>4</th>\n",
       "      <td>google</td>\n",
       "      <td>Los Angeles, CA</td>\n",
       "      <td>Jul 19, 2018</td>\n",
       "      <td>Former Employee - Software Engineer</td>\n",
       "      <td>Unique, one of a kind dream job</td>\n",
       "      <td>Google is a world of its own. At every other c...</td>\n",
       "      <td>If you don't work in MTV (HQ), you will be giv...</td>\n",
       "      <td>Promote managers into management for their man...</td>\n",
       "      <td>5</td>\n",
       "      <td>5</td>\n",
       "      <td>5</td>\n",
       "      <td>5</td>\n",
       "      <td>5</td>\n",
       "      <td>5</td>\n",
       "      <td>49</td>\n",
       "    </tr>\n",
       "  </tbody>\n",
       "</table>\n",
       "</div>"
      ],
      "text/plain": [
       "  company           location          dates  \\\n",
       "0  google               none   Dec 11, 2018   \n",
       "1  google  Mountain View, CA   Jun 21, 2013   \n",
       "2  google       New York, NY   May 10, 2014   \n",
       "3  google  Mountain View, CA    Feb 8, 2015   \n",
       "4  google    Los Angeles, CA   Jul 19, 2018   \n",
       "\n",
       "                                  job-title  \\\n",
       "0     Current Employee - Anonymous Employee   \n",
       "1         Former Employee - Program Manager   \n",
       "2  Current Employee - Software Engineer III   \n",
       "3     Current Employee - Anonymous Employee   \n",
       "4       Former Employee - Software Engineer   \n",
       "\n",
       "                                             summary  \\\n",
       "0                           Best Company to work for   \n",
       "1  Moving at the speed of light, burn out is inev...   \n",
       "2  Great balance between big-company security and...   \n",
       "3  The best place I've worked and also the most d...   \n",
       "4                    Unique, one of a kind dream job   \n",
       "\n",
       "                                                pros  \\\n",
       "0                      People are smart and friendly   \n",
       "1  1) Food, food, food. 15+ cafes on main campus ...   \n",
       "2  * If you're a software engineer, you're among ...   \n",
       "3  You can't find a more well-regarded company th...   \n",
       "4  Google is a world of its own. At every other c...   \n",
       "\n",
       "                                                cons  \\\n",
       "0                 Bureaucracy is slowing things down   \n",
       "1  1) Work/life balance. What balance? All those ...   \n",
       "2  * It *is* becoming larger, and with it comes g...   \n",
       "3  I live in SF so the commute can take between 1...   \n",
       "4  If you don't work in MTV (HQ), you will be giv...   \n",
       "\n",
       "                                      advice-to-mgmt  overall-ratings  \\\n",
       "0                                               none                5   \n",
       "1  1) Don't dismiss emotional intelligence and ad...                4   \n",
       "2  Keep the focus on the user. Everything else wi...                5   \n",
       "3  Keep on NOT micromanaging - that is a huge ben...                5   \n",
       "4  Promote managers into management for their man...                5   \n",
       "\n",
       "  work-balance-stars culture-values-stars carrer-opportunities-stars  \\\n",
       "0                  4                    5                          5   \n",
       "1                  2                    3                          3   \n",
       "2                  5                    4                          5   \n",
       "3                  2                    5                          5   \n",
       "4                  5                    5                          5   \n",
       "\n",
       "  comp-benefit-stars senior-mangemnet-stars  helpful-count  \n",
       "0                  4                      5              0  \n",
       "1                  5                      3           2094  \n",
       "2                  5                      4            949  \n",
       "3                  4                      5            498  \n",
       "4                  5                      5             49  "
      ]
     },
     "execution_count": 244,
     "metadata": {},
     "output_type": "execute_result"
    }
   ],
   "source": [
    "# Inspect the first few lines of the dataset\n",
    "df.head()"
   ]
  },
  {
   "cell_type": "code",
   "execution_count": 245,
   "id": "2ab2193e",
   "metadata": {},
   "outputs": [
    {
     "data": {
      "text/plain": [
       "(67529, 15)"
      ]
     },
     "execution_count": 245,
     "metadata": {},
     "output_type": "execute_result"
    }
   ],
   "source": [
    "# Display a tuple representing the dimensionality\n",
    "df.shape"
   ]
  },
  {
   "cell_type": "code",
   "execution_count": 246,
   "id": "10de677c",
   "metadata": {},
   "outputs": [
    {
     "data": {
      "text/plain": [
       "Index(['company', 'location', 'dates', 'job-title', 'summary', 'pros', 'cons',\n",
       "       'advice-to-mgmt', 'overall-ratings', 'work-balance-stars',\n",
       "       'culture-values-stars', 'carrer-opportunities-stars',\n",
       "       'comp-benefit-stars', 'senior-mangemnet-stars', 'helpful-count'],\n",
       "      dtype='object')"
      ]
     },
     "execution_count": 246,
     "metadata": {},
     "output_type": "execute_result"
    }
   ],
   "source": [
    "# Display a list of column names\n",
    "df.columns"
   ]
  },
  {
   "cell_type": "code",
   "execution_count": 247,
   "id": "9e0528b3",
   "metadata": {},
   "outputs": [
    {
     "data": {
      "text/plain": [
       "company                         0\n",
       "location                        0\n",
       "dates                           0\n",
       "job-title                       0\n",
       "summary                       120\n",
       "pros                            0\n",
       "cons                            0\n",
       "advice-to-mgmt                297\n",
       "overall-ratings                 0\n",
       "work-balance-stars              0\n",
       "culture-values-stars            0\n",
       "carrer-opportunities-stars      0\n",
       "comp-benefit-stars              0\n",
       "senior-mangemnet-stars          0\n",
       "helpful-count                   0\n",
       "dtype: int64"
      ]
     },
     "execution_count": 247,
     "metadata": {},
     "output_type": "execute_result"
    }
   ],
   "source": [
    "# Display if there are any missing values in columns\n",
    "df.isnull().sum()"
   ]
  },
  {
   "cell_type": "code",
   "execution_count": 248,
   "id": "2fbf0db1",
   "metadata": {
    "scrolled": true
   },
   "outputs": [
    {
     "data": {
      "text/plain": [
       "company                       object\n",
       "location                      object\n",
       "dates                         object\n",
       "job-title                     object\n",
       "summary                       object\n",
       "pros                          object\n",
       "cons                          object\n",
       "advice-to-mgmt                object\n",
       "overall-ratings                int64\n",
       "work-balance-stars            object\n",
       "culture-values-stars          object\n",
       "carrer-opportunities-stars    object\n",
       "comp-benefit-stars            object\n",
       "senior-mangemnet-stars        object\n",
       "helpful-count                  int64\n",
       "dtype: object"
      ]
     },
     "execution_count": 248,
     "metadata": {},
     "output_type": "execute_result"
    }
   ],
   "source": [
    "# Display data types of each columns\n",
    "df.dtypes"
   ]
  },
  {
   "cell_type": "code",
   "execution_count": 249,
   "id": "58c4340e",
   "metadata": {},
   "outputs": [
    {
     "data": {
      "text/plain": [
       "969"
      ]
     },
     "execution_count": 249,
     "metadata": {},
     "output_type": "execute_result"
    }
   ],
   "source": [
    "# Display how many duplicate rows exist\n",
    "df.duplicated().sum()"
   ]
  },
  {
   "cell_type": "markdown",
   "id": "3636b2a5",
   "metadata": {},
   "source": [
    "### Numerical Values Inspection"
   ]
  },
  {
   "cell_type": "code",
   "execution_count": 250,
   "id": "bec4d172",
   "metadata": {},
   "outputs": [
    {
     "data": {
      "text/html": [
       "<div>\n",
       "<style scoped>\n",
       "    .dataframe tbody tr th:only-of-type {\n",
       "        vertical-align: middle;\n",
       "    }\n",
       "\n",
       "    .dataframe tbody tr th {\n",
       "        vertical-align: top;\n",
       "    }\n",
       "\n",
       "    .dataframe thead th {\n",
       "        text-align: right;\n",
       "    }\n",
       "</style>\n",
       "<table border=\"1\" class=\"dataframe\">\n",
       "  <thead>\n",
       "    <tr style=\"text-align: right;\">\n",
       "      <th></th>\n",
       "      <th>count</th>\n",
       "      <th>mean</th>\n",
       "      <th>std</th>\n",
       "      <th>min</th>\n",
       "      <th>25%</th>\n",
       "      <th>50%</th>\n",
       "      <th>75%</th>\n",
       "      <th>max</th>\n",
       "    </tr>\n",
       "  </thead>\n",
       "  <tbody>\n",
       "    <tr>\n",
       "      <th>overall-ratings</th>\n",
       "      <td>67529.0</td>\n",
       "      <td>3.826075</td>\n",
       "      <td>1.154989</td>\n",
       "      <td>1.0</td>\n",
       "      <td>3.0</td>\n",
       "      <td>4.0</td>\n",
       "      <td>5.0</td>\n",
       "      <td>5.0</td>\n",
       "    </tr>\n",
       "    <tr>\n",
       "      <th>helpful-count</th>\n",
       "      <td>67529.0</td>\n",
       "      <td>1.268211</td>\n",
       "      <td>16.085852</td>\n",
       "      <td>0.0</td>\n",
       "      <td>0.0</td>\n",
       "      <td>0.0</td>\n",
       "      <td>1.0</td>\n",
       "      <td>2094.0</td>\n",
       "    </tr>\n",
       "  </tbody>\n",
       "</table>\n",
       "</div>"
      ],
      "text/plain": [
       "                   count      mean        std  min  25%  50%  75%     max\n",
       "overall-ratings  67529.0  3.826075   1.154989  1.0  3.0  4.0  5.0     5.0\n",
       "helpful-count    67529.0  1.268211  16.085852  0.0  0.0  0.0  1.0  2094.0"
      ]
     },
     "execution_count": 250,
     "metadata": {},
     "output_type": "execute_result"
    }
   ],
   "source": [
    "df.describe().transpose()"
   ]
  },
  {
   "cell_type": "markdown",
   "id": "aab81c3b",
   "metadata": {},
   "source": [
    "* `overall-ratings`: No missing values. Mean is close enough to the median, but we will use the median as the representative value. Seems to be a positive linear distribution with most values concentrated between `4` and `5`.\n",
    "* `helpful-count`: No missing values. Maximum value of `2094.0` seems to be an outlier. Use the median. Most rows seems to have `0` helpful count, with only a small portion of the reviews having high values."
   ]
  },
  {
   "cell_type": "markdown",
   "id": "2aad00b0",
   "metadata": {},
   "source": [
    "### Categorical Values Inspection"
   ]
  },
  {
   "cell_type": "code",
   "execution_count": 251,
   "id": "00618411",
   "metadata": {
    "scrolled": false
   },
   "outputs": [
    {
     "data": {
      "text/html": [
       "<div>\n",
       "<style scoped>\n",
       "    .dataframe tbody tr th:only-of-type {\n",
       "        vertical-align: middle;\n",
       "    }\n",
       "\n",
       "    .dataframe tbody tr th {\n",
       "        vertical-align: top;\n",
       "    }\n",
       "\n",
       "    .dataframe thead th {\n",
       "        text-align: right;\n",
       "    }\n",
       "</style>\n",
       "<table border=\"1\" class=\"dataframe\">\n",
       "  <thead>\n",
       "    <tr style=\"text-align: right;\">\n",
       "      <th></th>\n",
       "      <th>count</th>\n",
       "      <th>unique</th>\n",
       "      <th>top</th>\n",
       "      <th>freq</th>\n",
       "    </tr>\n",
       "  </thead>\n",
       "  <tbody>\n",
       "    <tr>\n",
       "      <th>company</th>\n",
       "      <td>67529</td>\n",
       "      <td>6</td>\n",
       "      <td>amazon</td>\n",
       "      <td>26430</td>\n",
       "    </tr>\n",
       "    <tr>\n",
       "      <th>location</th>\n",
       "      <td>67529</td>\n",
       "      <td>2044</td>\n",
       "      <td>none</td>\n",
       "      <td>25085</td>\n",
       "    </tr>\n",
       "    <tr>\n",
       "      <th>dates</th>\n",
       "      <td>67529</td>\n",
       "      <td>3824</td>\n",
       "      <td>Sep 19, 2017</td>\n",
       "      <td>272</td>\n",
       "    </tr>\n",
       "    <tr>\n",
       "      <th>job-title</th>\n",
       "      <td>67529</td>\n",
       "      <td>8308</td>\n",
       "      <td>Current Employee - Anonymous Employee</td>\n",
       "      <td>16177</td>\n",
       "    </tr>\n",
       "    <tr>\n",
       "      <th>summary</th>\n",
       "      <td>67409</td>\n",
       "      <td>42649</td>\n",
       "      <td>Great place to work</td>\n",
       "      <td>725</td>\n",
       "    </tr>\n",
       "    <tr>\n",
       "      <th>pros</th>\n",
       "      <td>67529</td>\n",
       "      <td>66085</td>\n",
       "      <td>Great company to work for</td>\n",
       "      <td>42</td>\n",
       "    </tr>\n",
       "    <tr>\n",
       "      <th>cons</th>\n",
       "      <td>67529</td>\n",
       "      <td>66047</td>\n",
       "      <td>None that I can think of</td>\n",
       "      <td>40</td>\n",
       "    </tr>\n",
       "    <tr>\n",
       "      <th>advice-to-mgmt</th>\n",
       "      <td>67232</td>\n",
       "      <td>35189</td>\n",
       "      <td>none</td>\n",
       "      <td>29164</td>\n",
       "    </tr>\n",
       "    <tr>\n",
       "      <th>work-balance-stars</th>\n",
       "      <td>67529</td>\n",
       "      <td>10</td>\n",
       "      <td>4</td>\n",
       "      <td>15167</td>\n",
       "    </tr>\n",
       "    <tr>\n",
       "      <th>culture-values-stars</th>\n",
       "      <td>67529</td>\n",
       "      <td>6</td>\n",
       "      <td>5</td>\n",
       "      <td>21536</td>\n",
       "    </tr>\n",
       "    <tr>\n",
       "      <th>carrer-opportunities-stars</th>\n",
       "      <td>67529</td>\n",
       "      <td>10</td>\n",
       "      <td>5</td>\n",
       "      <td>18163</td>\n",
       "    </tr>\n",
       "    <tr>\n",
       "      <th>comp-benefit-stars</th>\n",
       "      <td>67529</td>\n",
       "      <td>10</td>\n",
       "      <td>5</td>\n",
       "      <td>21224</td>\n",
       "    </tr>\n",
       "    <tr>\n",
       "      <th>senior-mangemnet-stars</th>\n",
       "      <td>67529</td>\n",
       "      <td>10</td>\n",
       "      <td>4</td>\n",
       "      <td>15848</td>\n",
       "    </tr>\n",
       "  </tbody>\n",
       "</table>\n",
       "</div>"
      ],
      "text/plain": [
       "                            count unique  \\\n",
       "company                     67529      6   \n",
       "location                    67529   2044   \n",
       "dates                       67529   3824   \n",
       "job-title                   67529   8308   \n",
       "summary                     67409  42649   \n",
       "pros                        67529  66085   \n",
       "cons                        67529  66047   \n",
       "advice-to-mgmt              67232  35189   \n",
       "work-balance-stars          67529     10   \n",
       "culture-values-stars        67529      6   \n",
       "carrer-opportunities-stars  67529     10   \n",
       "comp-benefit-stars          67529     10   \n",
       "senior-mangemnet-stars      67529     10   \n",
       "\n",
       "                                                              top   freq  \n",
       "company                                                    amazon  26430  \n",
       "location                                                     none  25085  \n",
       "dates                                                Sep 19, 2017    272  \n",
       "job-title                   Current Employee - Anonymous Employee  16177  \n",
       "summary                                       Great place to work    725  \n",
       "pros                                    Great company to work for     42  \n",
       "cons                                     None that I can think of     40  \n",
       "advice-to-mgmt                                               none  29164  \n",
       "work-balance-stars                                              4  15167  \n",
       "culture-values-stars                                            5  21536  \n",
       "carrer-opportunities-stars                                      5  18163  \n",
       "comp-benefit-stars                                              5  21224  \n",
       "senior-mangemnet-stars                                          4  15848  "
      ]
     },
     "execution_count": 251,
     "metadata": {},
     "output_type": "execute_result"
    }
   ],
   "source": [
    "df.describe(include = ['object']).transpose()"
   ]
  },
  {
   "cell_type": "markdown",
   "id": "14ece975",
   "metadata": {},
   "source": [
    "* `company`: No missing values. Cardinality seems appropriate.\n",
    "* `location`: No missing values. Cardinality is high, they could be grouped for reporting if necessary.\n",
    "* `dates`: No missing values. Needs to be converted to date format.\n",
    "* `job-title`: No missing values\n",
    "* `summary`: 120 missing values. High cardinality is to be expected for the nature of the column.\n",
    "* `pros`: No missing values. High cardinality is to be expected for the nature of the column.\n",
    "* `cons`: No missing values. High cardinality is to be expected for the nature of the column.\n",
    "* `advice-to-mgmt`: 297 missing values. We will not use this for the report.\n",
    "* `work-balance-stars`: No missing values. Needs to be converted to numerical format.\n",
    "* `culture-values-stars`: No missing values. Needs to be converted to numerical format.\n",
    "* `carrer-opportunities-stars`: No missing values. Needs to be converted to numerical format.\n",
    "* `comp-benefit-stars`: No missing values. Needs to be converted to numerical format.\n",
    "* `senior-mangemnet-stars`: No missing values. Needs to be converted to numerical format."
   ]
  },
  {
   "cell_type": "markdown",
   "id": "1f71384c",
   "metadata": {},
   "source": [
    "# 2. <a name=\"2\"></a>Cleaning of datasets"
   ]
  },
  {
   "cell_type": "markdown",
   "id": "cac833f9",
   "metadata": {},
   "source": [
    "### Remove Duplicates"
   ]
  },
  {
   "cell_type": "code",
   "execution_count": 252,
   "id": "182325c8",
   "metadata": {},
   "outputs": [
    {
     "data": {
      "text/plain": [
       "(66560, 15)"
      ]
     },
     "execution_count": 252,
     "metadata": {},
     "output_type": "execute_result"
    }
   ],
   "source": [
    "df.drop_duplicates(inplace = True)\n",
    "df.shape"
   ]
  },
  {
   "cell_type": "markdown",
   "id": "1d345f10",
   "metadata": {},
   "source": [
    "### Convert 'none' to NaN"
   ]
  },
  {
   "cell_type": "code",
   "execution_count": 253,
   "id": "72fba207",
   "metadata": {},
   "outputs": [
    {
     "data": {
      "text/plain": [
       "company                           0\n",
       "location                      24705\n",
       "dates                             0\n",
       "job-title                         0\n",
       "summary                         125\n",
       "pros                              0\n",
       "cons                              1\n",
       "advice-to-mgmt                29050\n",
       "overall-ratings                   0\n",
       "work-balance-stars             7052\n",
       "culture-values-stars          13386\n",
       "carrer-opportunities-stars     6998\n",
       "comp-benefit-stars             7050\n",
       "senior-mangemnet-stars         7659\n",
       "helpful-count                     0\n",
       "dtype: int64"
      ]
     },
     "execution_count": 253,
     "metadata": {},
     "output_type": "execute_result"
    }
   ],
   "source": [
    "df.replace(\"none\", np.nan, inplace = True)\n",
    "df.isnull().sum()"
   ]
  },
  {
   "cell_type": "markdown",
   "id": "450853c1",
   "metadata": {},
   "source": [
    "### Convert Dates to Date Format"
   ]
  },
  {
   "cell_type": "code",
   "execution_count": 254,
   "id": "4b49bf3b",
   "metadata": {},
   "outputs": [],
   "source": [
    "# Create a dictionary of months names and numbers\n",
    "dict_months = {'Jan':'01','Feb':'02','Mar':'03','Apr':'04','May':'05','Jun':'06','Jul':'07','Aug':'08','Sep':'09','Oct':'10','Nov':'11','Dec':'12'}"
   ]
  },
  {
   "cell_type": "code",
   "execution_count": 255,
   "id": "61864d60",
   "metadata": {},
   "outputs": [],
   "source": [
    "# Remove commas, spaces, and replace months names to numbers\n",
    "df['dates'] = df['dates'].str.strip().str.replace(\",\", \"\").str.replace(\" \", \"\").replace(dict_months, regex = True)"
   ]
  },
  {
   "cell_type": "code",
   "execution_count": 256,
   "id": "7a1f0692",
   "metadata": {},
   "outputs": [],
   "source": [
    "df['dates'] = pd.to_datetime(df['dates'], format='%m%d%Y', errors='coerce')"
   ]
  },
  {
   "cell_type": "code",
   "execution_count": 257,
   "id": "462b62f8",
   "metadata": {
    "scrolled": false
   },
   "outputs": [
    {
     "data": {
      "text/plain": [
       "0   2018-12-11\n",
       "1   2013-06-21\n",
       "2   2014-05-10\n",
       "3   2015-02-08\n",
       "4   2018-07-19\n",
       "Name: dates, dtype: datetime64[ns]"
      ]
     },
     "execution_count": 257,
     "metadata": {},
     "output_type": "execute_result"
    }
   ],
   "source": [
    "df['dates'].head()"
   ]
  },
  {
   "cell_type": "markdown",
   "id": "929159de",
   "metadata": {},
   "source": [
    "### Convert Numbers to Numerical Format"
   ]
  },
  {
   "cell_type": "code",
   "execution_count": 258,
   "id": "374a0e39",
   "metadata": {},
   "outputs": [],
   "source": [
    "df[df.columns[9:14]] = df[df.columns[9:14]].apply(pd.to_numeric, errors = 'coerce', axis = 1)"
   ]
  },
  {
   "cell_type": "code",
   "execution_count": 259,
   "id": "1c536c8c",
   "metadata": {},
   "outputs": [
    {
     "data": {
      "text/plain": [
       "work-balance-stars            float64\n",
       "culture-values-stars          float64\n",
       "carrer-opportunities-stars    float64\n",
       "comp-benefit-stars            float64\n",
       "senior-mangemnet-stars        float64\n",
       "dtype: object"
      ]
     },
     "execution_count": 259,
     "metadata": {},
     "output_type": "execute_result"
    }
   ],
   "source": [
    "df.iloc[:, 9:14].dtypes"
   ]
  },
  {
   "cell_type": "code",
   "execution_count": 260,
   "id": "82a4ebad",
   "metadata": {
    "scrolled": true
   },
   "outputs": [
    {
     "data": {
      "text/html": [
       "<div>\n",
       "<style scoped>\n",
       "    .dataframe tbody tr th:only-of-type {\n",
       "        vertical-align: middle;\n",
       "    }\n",
       "\n",
       "    .dataframe tbody tr th {\n",
       "        vertical-align: top;\n",
       "    }\n",
       "\n",
       "    .dataframe thead th {\n",
       "        text-align: right;\n",
       "    }\n",
       "</style>\n",
       "<table border=\"1\" class=\"dataframe\">\n",
       "  <thead>\n",
       "    <tr style=\"text-align: right;\">\n",
       "      <th></th>\n",
       "      <th>count</th>\n",
       "      <th>mean</th>\n",
       "      <th>std</th>\n",
       "      <th>min</th>\n",
       "      <th>25%</th>\n",
       "      <th>50%</th>\n",
       "      <th>75%</th>\n",
       "      <th>max</th>\n",
       "    </tr>\n",
       "  </thead>\n",
       "  <tbody>\n",
       "    <tr>\n",
       "      <th>work-balance-stars</th>\n",
       "      <td>59508.0</td>\n",
       "      <td>3.374109</td>\n",
       "      <td>1.299976</td>\n",
       "      <td>1.0</td>\n",
       "      <td>2.0</td>\n",
       "      <td>3.5</td>\n",
       "      <td>4.0</td>\n",
       "      <td>5.0</td>\n",
       "    </tr>\n",
       "    <tr>\n",
       "      <th>culture-values-stars</th>\n",
       "      <td>53174.0</td>\n",
       "      <td>3.785233</td>\n",
       "      <td>1.296647</td>\n",
       "      <td>1.0</td>\n",
       "      <td>3.0</td>\n",
       "      <td>4.0</td>\n",
       "      <td>5.0</td>\n",
       "      <td>5.0</td>\n",
       "    </tr>\n",
       "    <tr>\n",
       "      <th>carrer-opportunities-stars</th>\n",
       "      <td>59562.0</td>\n",
       "      <td>3.633181</td>\n",
       "      <td>1.226209</td>\n",
       "      <td>1.0</td>\n",
       "      <td>3.0</td>\n",
       "      <td>4.0</td>\n",
       "      <td>5.0</td>\n",
       "      <td>5.0</td>\n",
       "    </tr>\n",
       "    <tr>\n",
       "      <th>comp-benefit-stars</th>\n",
       "      <td>59510.0</td>\n",
       "      <td>3.942951</td>\n",
       "      <td>1.038815</td>\n",
       "      <td>1.0</td>\n",
       "      <td>3.0</td>\n",
       "      <td>4.0</td>\n",
       "      <td>5.0</td>\n",
       "      <td>5.0</td>\n",
       "    </tr>\n",
       "    <tr>\n",
       "      <th>senior-mangemnet-stars</th>\n",
       "      <td>58901.0</td>\n",
       "      <td>3.323203</td>\n",
       "      <td>1.313313</td>\n",
       "      <td>1.0</td>\n",
       "      <td>2.0</td>\n",
       "      <td>3.5</td>\n",
       "      <td>4.0</td>\n",
       "      <td>5.0</td>\n",
       "    </tr>\n",
       "  </tbody>\n",
       "</table>\n",
       "</div>"
      ],
      "text/plain": [
       "                              count      mean       std  min  25%  50%  75%  \\\n",
       "work-balance-stars          59508.0  3.374109  1.299976  1.0  2.0  3.5  4.0   \n",
       "culture-values-stars        53174.0  3.785233  1.296647  1.0  3.0  4.0  5.0   \n",
       "carrer-opportunities-stars  59562.0  3.633181  1.226209  1.0  3.0  4.0  5.0   \n",
       "comp-benefit-stars          59510.0  3.942951  1.038815  1.0  3.0  4.0  5.0   \n",
       "senior-mangemnet-stars      58901.0  3.323203  1.313313  1.0  2.0  3.5  4.0   \n",
       "\n",
       "                            max  \n",
       "work-balance-stars          5.0  \n",
       "culture-values-stars        5.0  \n",
       "carrer-opportunities-stars  5.0  \n",
       "comp-benefit-stars          5.0  \n",
       "senior-mangemnet-stars      5.0  "
      ]
     },
     "execution_count": 260,
     "metadata": {},
     "output_type": "execute_result"
    }
   ],
   "source": [
    "df.iloc[:, 9:14].describe().transpose()"
   ]
  },
  {
   "cell_type": "markdown",
   "id": "30c7c641",
   "metadata": {},
   "source": [
    "### Continuous Features Visualisation Before Imputation"
   ]
  },
  {
   "cell_type": "code",
   "execution_count": 261,
   "id": "0543a699",
   "metadata": {},
   "outputs": [
    {
     "data": {
      "image/png": "[encoded data removed]",
      "text/plain": [
       "<Figure size 1080x576 with 6 Axes>"
      ]
     },
     "metadata": {},
     "output_type": "display_data"
    }
   ],
   "source": [
    "# Create the figure and axes with 4 rows and 4 columns\n",
    "fig, axes = plt.subplots(nrows=2, ncols=3, figsize=(15,8))\n",
    "\n",
    "# Create the plots, display mean in black dotted lines and median in red dotted lines\n",
    "sns.histplot(x='overall-ratings', data=df, ax=axes[0, 0])\n",
    "axes[0, 0].axvline(df['overall-ratings'].mean(), color=\"black\", ls=\"--\")\n",
    "axes[0, 0].axvline(df['overall-ratings'].median(), color=\"red\", ls=\"--\")\n",
    "\n",
    "sns.histplot(x='work-balance-stars', data=df, ax=axes[0, 1])\n",
    "axes[0, 1].axvline(df['work-balance-stars'].mean(), color=\"black\", ls=\"--\")\n",
    "axes[0, 1].axvline(df['work-balance-stars'].median(), color=\"red\", ls=\"--\")\n",
    "\n",
    "sns.histplot(x='culture-values-stars', data=df, ax=axes[0, 2])\n",
    "axes[0, 2].axvline(df['culture-values-stars'].mean(), color=\"black\", ls=\"--\")\n",
    "axes[0, 2].axvline(df['culture-values-stars'].median(), color=\"red\", ls=\"--\")\n",
    "\n",
    "sns.histplot(x='carrer-opportunities-stars', data=df, ax=axes[1, 0])\n",
    "axes[1, 0].axvline(df['carrer-opportunities-stars'].mean(), color=\"black\", ls=\"--\")\n",
    "axes[1, 0].axvline(df['carrer-opportunities-stars'].median(), color=\"red\", ls=\"--\")\n",
    "\n",
    "sns.histplot(x='comp-benefit-stars', data=df, ax=axes[1, 1])\n",
    "axes[1, 1].axvline(df['comp-benefit-stars'].mean(), color=\"black\", ls=\"--\")\n",
    "axes[1, 1].axvline(df['comp-benefit-stars'].median(), color=\"red\", ls=\"--\")\n",
    "\n",
    "sns.histplot(x='senior-mangemnet-stars', data=df, ax=axes[1, 2])\n",
    "axes[1, 2].axvline(df['senior-mangemnet-stars'].mean(), color=\"black\", ls=\"--\")\n",
    "axes[1, 2].axvline(df['senior-mangemnet-stars'].median(), color=\"red\", ls=\"--\")\n",
    "\n",
    "# Tidy the figure layout\n",
    "plt.tight_layout()"
   ]
  },
  {
   "cell_type": "markdown",
   "id": "8bf7fb1a",
   "metadata": {},
   "source": [
    "### Replace Missing Values Based on Companies"
   ]
  },
  {
   "cell_type": "code",
   "execution_count": 262,
   "id": "9ada7542",
   "metadata": {},
   "outputs": [
    {
     "data": {
      "text/html": [
       "<div>\n",
       "<style scoped>\n",
       "    .dataframe tbody tr th:only-of-type {\n",
       "        vertical-align: middle;\n",
       "    }\n",
       "\n",
       "    .dataframe tbody tr th {\n",
       "        vertical-align: top;\n",
       "    }\n",
       "\n",
       "    .dataframe thead th {\n",
       "        text-align: right;\n",
       "    }\n",
       "</style>\n",
       "<table border=\"1\" class=\"dataframe\">\n",
       "  <thead>\n",
       "    <tr style=\"text-align: right;\">\n",
       "      <th></th>\n",
       "      <th>work-balance-stars</th>\n",
       "      <th>culture-values-stars</th>\n",
       "      <th>carrer-opportunities-stars</th>\n",
       "      <th>comp-benefit-stars</th>\n",
       "      <th>senior-mangemnet-stars</th>\n",
       "    </tr>\n",
       "    <tr>\n",
       "      <th>company</th>\n",
       "      <th></th>\n",
       "      <th></th>\n",
       "      <th></th>\n",
       "      <th></th>\n",
       "      <th></th>\n",
       "    </tr>\n",
       "  </thead>\n",
       "  <tbody>\n",
       "    <tr>\n",
       "      <th>amazon</th>\n",
       "      <td>3.0</td>\n",
       "      <td>4.0</td>\n",
       "      <td>4.0</td>\n",
       "      <td>4.0</td>\n",
       "      <td>3.0</td>\n",
       "    </tr>\n",
       "    <tr>\n",
       "      <th>apple</th>\n",
       "      <td>3.5</td>\n",
       "      <td>5.0</td>\n",
       "      <td>3.5</td>\n",
       "      <td>4.0</td>\n",
       "      <td>4.0</td>\n",
       "    </tr>\n",
       "    <tr>\n",
       "      <th>facebook</th>\n",
       "      <td>4.0</td>\n",
       "      <td>5.0</td>\n",
       "      <td>5.0</td>\n",
       "      <td>5.0</td>\n",
       "      <td>5.0</td>\n",
       "    </tr>\n",
       "    <tr>\n",
       "      <th>google</th>\n",
       "      <td>4.0</td>\n",
       "      <td>5.0</td>\n",
       "      <td>4.0</td>\n",
       "      <td>5.0</td>\n",
       "      <td>4.0</td>\n",
       "    </tr>\n",
       "    <tr>\n",
       "      <th>microsoft</th>\n",
       "      <td>4.0</td>\n",
       "      <td>4.0</td>\n",
       "      <td>4.0</td>\n",
       "      <td>4.0</td>\n",
       "      <td>3.0</td>\n",
       "    </tr>\n",
       "    <tr>\n",
       "      <th>netflix</th>\n",
       "      <td>3.0</td>\n",
       "      <td>4.0</td>\n",
       "      <td>3.0</td>\n",
       "      <td>4.0</td>\n",
       "      <td>3.0</td>\n",
       "    </tr>\n",
       "  </tbody>\n",
       "</table>\n",
       "</div>"
      ],
      "text/plain": [
       "           work-balance-stars  culture-values-stars  \\\n",
       "company                                               \n",
       "amazon                    3.0                   4.0   \n",
       "apple                     3.5                   5.0   \n",
       "facebook                  4.0                   5.0   \n",
       "google                    4.0                   5.0   \n",
       "microsoft                 4.0                   4.0   \n",
       "netflix                   3.0                   4.0   \n",
       "\n",
       "           carrer-opportunities-stars  comp-benefit-stars  \\\n",
       "company                                                     \n",
       "amazon                            4.0                 4.0   \n",
       "apple                             3.5                 4.0   \n",
       "facebook                          5.0                 5.0   \n",
       "google                            4.0                 5.0   \n",
       "microsoft                         4.0                 4.0   \n",
       "netflix                           3.0                 4.0   \n",
       "\n",
       "           senior-mangemnet-stars  \n",
       "company                            \n",
       "amazon                        3.0  \n",
       "apple                         4.0  \n",
       "facebook                      5.0  \n",
       "google                        4.0  \n",
       "microsoft                     3.0  \n",
       "netflix                       3.0  "
      ]
     },
     "execution_count": 262,
     "metadata": {},
     "output_type": "execute_result"
    }
   ],
   "source": [
    "# Calculate the median values for each company per star rating\n",
    "starrating = ['work-balance-stars', 'culture-values-stars', 'carrer-opportunities-stars', 'comp-benefit-stars', 'senior-mangemnet-stars']\n",
    "starratingmedian = df.groupby(['company'])[starrating].median()\n",
    "starratingmedian"
   ]
  },
  {
   "cell_type": "code",
   "execution_count": 263,
   "id": "c569fed7",
   "metadata": {},
   "outputs": [],
   "source": [
    "# Create dictionaries for each columns\n",
    "workbalancedict = starratingmedian['work-balance-stars'].to_dict()\n",
    "culturedict = starratingmedian['culture-values-stars'].to_dict()\n",
    "careerdict = starratingmedian['carrer-opportunities-stars'].to_dict()\n",
    "benefitdict = starratingmedian['comp-benefit-stars'].to_dict()\n",
    "managementdict = starratingmedian['senior-mangemnet-stars'].to_dict()"
   ]
  },
  {
   "cell_type": "code",
   "execution_count": 264,
   "id": "2df4ae39",
   "metadata": {},
   "outputs": [],
   "source": [
    "# Map dictionary values to NaN\n",
    "df['work-balance-stars'].fillna(df['company'].map(workbalancedict), inplace = True)\n",
    "df['culture-values-stars'].fillna(df['company'].map(culturedict), inplace = True)\n",
    "df['carrer-opportunities-stars'].fillna(df['company'].map(careerdict), inplace = True)\n",
    "df['comp-benefit-stars'].fillna(df['company'].map(benefitdict), inplace = True)\n",
    "df['senior-mangemnet-stars'].fillna(df['company'].map(managementdict), inplace = True)"
   ]
  },
  {
   "cell_type": "code",
   "execution_count": 265,
   "id": "a684311a",
   "metadata": {},
   "outputs": [
    {
     "data": {
      "text/plain": [
       "work-balance-stars            0\n",
       "culture-values-stars          0\n",
       "carrer-opportunities-stars    0\n",
       "comp-benefit-stars            0\n",
       "senior-mangemnet-stars        0\n",
       "dtype: int64"
      ]
     },
     "execution_count": 265,
     "metadata": {},
     "output_type": "execute_result"
    }
   ],
   "source": [
    "# Check the number of missing values\n",
    "df[['work-balance-stars', 'culture-values-stars', 'carrer-opportunities-stars', 'comp-benefit-stars', 'senior-mangemnet-stars']].isnull().sum()"
   ]
  },
  {
   "cell_type": "markdown",
   "id": "c5d20d44",
   "metadata": {},
   "source": [
    "### Continuous Features Visualisation After Imputation"
   ]
  },
  {
   "cell_type": "code",
   "execution_count": 266,
   "id": "34e4b80b",
   "metadata": {},
   "outputs": [
    {
     "data": {
      "image/png": "[encoded data removed]",
      "text/plain": [
       "<Figure size 1080x576 with 6 Axes>"
      ]
     },
     "metadata": {},
     "output_type": "display_data"
    }
   ],
   "source": [
    "# Create the figure and axes with 4 rows and 4 columns\n",
    "fig, axes = plt.subplots(nrows=2, ncols=3, figsize=(15,8))\n",
    "\n",
    "# Create the plots, display mean in black dotted lines and median in red dotted lines\n",
    "sns.histplot(x='overall-ratings', data=df, ax=axes[0, 0])\n",
    "axes[0, 0].axvline(df['overall-ratings'].mean(), color=\"black\", ls=\"--\")\n",
    "axes[0, 0].axvline(df['overall-ratings'].median(), color=\"red\", ls=\"--\")\n",
    "\n",
    "sns.histplot(x='work-balance-stars', data=df, ax=axes[0, 1])\n",
    "axes[0, 1].axvline(df['work-balance-stars'].mean(), color=\"black\", ls=\"--\")\n",
    "axes[0, 1].axvline(df['work-balance-stars'].median(), color=\"red\", ls=\"--\")\n",
    "\n",
    "sns.histplot(x='culture-values-stars', data=df, ax=axes[0, 2])\n",
    "axes[0, 2].axvline(df['culture-values-stars'].mean(), color=\"black\", ls=\"--\")\n",
    "axes[0, 2].axvline(df['culture-values-stars'].median(), color=\"red\", ls=\"--\")\n",
    "\n",
    "sns.histplot(x='carrer-opportunities-stars', data=df, ax=axes[1, 0])\n",
    "axes[1, 0].axvline(df['carrer-opportunities-stars'].mean(), color=\"black\", ls=\"--\")\n",
    "axes[1, 0].axvline(df['carrer-opportunities-stars'].median(), color=\"red\", ls=\"--\")\n",
    "\n",
    "sns.histplot(x='comp-benefit-stars', data=df, ax=axes[1, 1])\n",
    "axes[1, 1].axvline(df['comp-benefit-stars'].mean(), color=\"black\", ls=\"--\")\n",
    "axes[1, 1].axvline(df['comp-benefit-stars'].median(), color=\"red\", ls=\"--\")\n",
    "\n",
    "sns.histplot(x='senior-mangemnet-stars', data=df, ax=axes[1, 2])\n",
    "axes[1, 2].axvline(df['senior-mangemnet-stars'].mean(), color=\"black\", ls=\"--\")\n",
    "axes[1, 2].axvline(df['senior-mangemnet-stars'].median(), color=\"red\", ls=\"--\")\n",
    "\n",
    "# Tidy the figure layout\n",
    "plt.tight_layout()"
   ]
  },
  {
   "cell_type": "markdown",
   "id": "d48b7cc1",
   "metadata": {},
   "source": [
    "# 3. <a name=\"3\"></a>Data Manipulation to Obtain Subsets and Aggregated Values"
   ]
  },
  {
   "cell_type": "markdown",
   "id": "1eef323a",
   "metadata": {},
   "source": [
    "## 3.1 <a name=\"3.1\"></a>Sub Setting and Filtering "
   ]
  },
  {
   "cell_type": "markdown",
   "id": "737c6cc3",
   "metadata": {},
   "source": [
    "### Subset for comparing overall-ratings per company"
   ]
  },
  {
   "cell_type": "code",
   "execution_count": 267,
   "id": "2e4747d5",
   "metadata": {},
   "outputs": [
    {
     "data": {
      "text/html": [
       "<div>\n",
       "<style scoped>\n",
       "    .dataframe tbody tr th:only-of-type {\n",
       "        vertical-align: middle;\n",
       "    }\n",
       "\n",
       "    .dataframe tbody tr th {\n",
       "        vertical-align: top;\n",
       "    }\n",
       "\n",
       "    .dataframe thead th {\n",
       "        text-align: right;\n",
       "    }\n",
       "</style>\n",
       "<table border=\"1\" class=\"dataframe\">\n",
       "  <thead>\n",
       "    <tr style=\"text-align: right;\">\n",
       "      <th></th>\n",
       "      <th>company</th>\n",
       "      <th>dates</th>\n",
       "      <th>overall-ratings</th>\n",
       "    </tr>\n",
       "  </thead>\n",
       "  <tbody>\n",
       "    <tr>\n",
       "      <th>0</th>\n",
       "      <td>google</td>\n",
       "      <td>2018-12-11</td>\n",
       "      <td>5</td>\n",
       "    </tr>\n",
       "    <tr>\n",
       "      <th>1</th>\n",
       "      <td>google</td>\n",
       "      <td>2013-06-21</td>\n",
       "      <td>4</td>\n",
       "    </tr>\n",
       "    <tr>\n",
       "      <th>2</th>\n",
       "      <td>google</td>\n",
       "      <td>2014-05-10</td>\n",
       "      <td>5</td>\n",
       "    </tr>\n",
       "    <tr>\n",
       "      <th>3</th>\n",
       "      <td>google</td>\n",
       "      <td>2015-02-08</td>\n",
       "      <td>5</td>\n",
       "    </tr>\n",
       "    <tr>\n",
       "      <th>4</th>\n",
       "      <td>google</td>\n",
       "      <td>2018-07-19</td>\n",
       "      <td>5</td>\n",
       "    </tr>\n",
       "  </tbody>\n",
       "</table>\n",
       "</div>"
      ],
      "text/plain": [
       "  company      dates  overall-ratings\n",
       "0  google 2018-12-11                5\n",
       "1  google 2013-06-21                4\n",
       "2  google 2014-05-10                5\n",
       "3  google 2015-02-08                5\n",
       "4  google 2018-07-19                5"
      ]
     },
     "execution_count": 267,
     "metadata": {},
     "output_type": "execute_result"
    }
   ],
   "source": [
    "# Select 'company', 'dates', 'overall-ratings' without NaN\n",
    "overalldf = df[['company', 'dates', 'overall-ratings']].dropna()\n",
    "overalldf.head()"
   ]
  },
  {
   "cell_type": "markdown",
   "id": "390adaf7",
   "metadata": {},
   "source": [
    "### Subset for comparing star ratings per company"
   ]
  },
  {
   "cell_type": "code",
   "execution_count": 268,
   "id": "688263e2",
   "metadata": {
    "scrolled": true
   },
   "outputs": [
    {
     "data": {
      "text/html": [
       "<div>\n",
       "<style scoped>\n",
       "    .dataframe tbody tr th:only-of-type {\n",
       "        vertical-align: middle;\n",
       "    }\n",
       "\n",
       "    .dataframe tbody tr th {\n",
       "        vertical-align: top;\n",
       "    }\n",
       "\n",
       "    .dataframe thead th {\n",
       "        text-align: right;\n",
       "    }\n",
       "</style>\n",
       "<table border=\"1\" class=\"dataframe\">\n",
       "  <thead>\n",
       "    <tr style=\"text-align: right;\">\n",
       "      <th></th>\n",
       "      <th>company</th>\n",
       "      <th>work-balance-stars</th>\n",
       "      <th>culture-values-stars</th>\n",
       "      <th>carrer-opportunities-stars</th>\n",
       "      <th>comp-benefit-stars</th>\n",
       "      <th>senior-mangemnet-stars</th>\n",
       "    </tr>\n",
       "  </thead>\n",
       "  <tbody>\n",
       "    <tr>\n",
       "      <th>0</th>\n",
       "      <td>google</td>\n",
       "      <td>4.0</td>\n",
       "      <td>5.0</td>\n",
       "      <td>5.0</td>\n",
       "      <td>4.0</td>\n",
       "      <td>5.0</td>\n",
       "    </tr>\n",
       "    <tr>\n",
       "      <th>1</th>\n",
       "      <td>google</td>\n",
       "      <td>2.0</td>\n",
       "      <td>3.0</td>\n",
       "      <td>3.0</td>\n",
       "      <td>5.0</td>\n",
       "      <td>3.0</td>\n",
       "    </tr>\n",
       "    <tr>\n",
       "      <th>2</th>\n",
       "      <td>google</td>\n",
       "      <td>5.0</td>\n",
       "      <td>4.0</td>\n",
       "      <td>5.0</td>\n",
       "      <td>5.0</td>\n",
       "      <td>4.0</td>\n",
       "    </tr>\n",
       "    <tr>\n",
       "      <th>3</th>\n",
       "      <td>google</td>\n",
       "      <td>2.0</td>\n",
       "      <td>5.0</td>\n",
       "      <td>5.0</td>\n",
       "      <td>4.0</td>\n",
       "      <td>5.0</td>\n",
       "    </tr>\n",
       "    <tr>\n",
       "      <th>4</th>\n",
       "      <td>google</td>\n",
       "      <td>5.0</td>\n",
       "      <td>5.0</td>\n",
       "      <td>5.0</td>\n",
       "      <td>5.0</td>\n",
       "      <td>5.0</td>\n",
       "    </tr>\n",
       "  </tbody>\n",
       "</table>\n",
       "</div>"
      ],
      "text/plain": [
       "  company  work-balance-stars  culture-values-stars  \\\n",
       "0  google                 4.0                   5.0   \n",
       "1  google                 2.0                   3.0   \n",
       "2  google                 5.0                   4.0   \n",
       "3  google                 2.0                   5.0   \n",
       "4  google                 5.0                   5.0   \n",
       "\n",
       "   carrer-opportunities-stars  comp-benefit-stars  senior-mangemnet-stars  \n",
       "0                         5.0                 4.0                     5.0  \n",
       "1                         3.0                 5.0                     3.0  \n",
       "2                         5.0                 5.0                     4.0  \n",
       "3                         5.0                 4.0                     5.0  \n",
       "4                         5.0                 5.0                     5.0  "
      ]
     },
     "execution_count": 268,
     "metadata": {},
     "output_type": "execute_result"
    }
   ],
   "source": [
    "# Select 'company', 'work-balance-stars', 'culture-values-stars', 'carrer-opportunities-stars', 'comp-benefit-stars', and 'senior-mangemnet-stars'\n",
    "stardf = df[['company', 'work-balance-stars', 'culture-values-stars', 'carrer-opportunities-stars', 'comp-benefit-stars', 'senior-mangemnet-stars']]\n",
    "stardf.head()"
   ]
  },
  {
   "cell_type": "markdown",
   "id": "6a63bd18",
   "metadata": {},
   "source": [
    "### Subset for comparing overall-ratings per location with over mean number of reviews"
   ]
  },
  {
   "cell_type": "code",
   "execution_count": 269,
   "id": "b48aaae0",
   "metadata": {},
   "outputs": [],
   "source": [
    "# Create a dataframe of number of reviews per location\n",
    "locationsize = pd.DataFrame(df.groupby(['location']).size())"
   ]
  },
  {
   "cell_type": "code",
   "execution_count": 270,
   "id": "51b02860",
   "metadata": {},
   "outputs": [],
   "source": [
    "# Specify the column name\n",
    "locationsize.columns = ['size']"
   ]
  },
  {
   "cell_type": "code",
   "execution_count": 271,
   "id": "516af61a",
   "metadata": {},
   "outputs": [],
   "source": [
    "# Filter for locations with above average number of reviews\n",
    "locationsize = locationsize[locationsize['size'] > locationsize['size'].mean()]"
   ]
  },
  {
   "cell_type": "code",
   "execution_count": 272,
   "id": "c916867d",
   "metadata": {},
   "outputs": [],
   "source": [
    "# Create a subset of the original dataframe with above average number of reviews only\n",
    "locationdf = df[['location', 'overall-ratings']].where(df['location'].isin(locationsize.index)).dropna()"
   ]
  },
  {
   "cell_type": "code",
   "execution_count": 273,
   "id": "fdb4cceb",
   "metadata": {
    "scrolled": true
   },
   "outputs": [
    {
     "data": {
      "text/html": [
       "<div>\n",
       "<style scoped>\n",
       "    .dataframe tbody tr th:only-of-type {\n",
       "        vertical-align: middle;\n",
       "    }\n",
       "\n",
       "    .dataframe tbody tr th {\n",
       "        vertical-align: top;\n",
       "    }\n",
       "\n",
       "    .dataframe thead th {\n",
       "        text-align: right;\n",
       "    }\n",
       "</style>\n",
       "<table border=\"1\" class=\"dataframe\">\n",
       "  <thead>\n",
       "    <tr style=\"text-align: right;\">\n",
       "      <th></th>\n",
       "      <th>location</th>\n",
       "      <th>overall-ratings</th>\n",
       "    </tr>\n",
       "  </thead>\n",
       "  <tbody>\n",
       "    <tr>\n",
       "      <th>1</th>\n",
       "      <td>Mountain View, CA</td>\n",
       "      <td>4.0</td>\n",
       "    </tr>\n",
       "    <tr>\n",
       "      <th>2</th>\n",
       "      <td>New York, NY</td>\n",
       "      <td>5.0</td>\n",
       "    </tr>\n",
       "    <tr>\n",
       "      <th>3</th>\n",
       "      <td>Mountain View, CA</td>\n",
       "      <td>5.0</td>\n",
       "    </tr>\n",
       "    <tr>\n",
       "      <th>4</th>\n",
       "      <td>Los Angeles, CA</td>\n",
       "      <td>5.0</td>\n",
       "    </tr>\n",
       "    <tr>\n",
       "      <th>5</th>\n",
       "      <td>Mountain View, CA</td>\n",
       "      <td>5.0</td>\n",
       "    </tr>\n",
       "  </tbody>\n",
       "</table>\n",
       "</div>"
      ],
      "text/plain": [
       "            location  overall-ratings\n",
       "1  Mountain View, CA              4.0\n",
       "2       New York, NY              5.0\n",
       "3  Mountain View, CA              5.0\n",
       "4    Los Angeles, CA              5.0\n",
       "5  Mountain View, CA              5.0"
      ]
     },
     "execution_count": 273,
     "metadata": {},
     "output_type": "execute_result"
    }
   ],
   "source": [
    "locationdf.head()"
   ]
  },
  {
   "cell_type": "markdown",
   "id": "5acb5745",
   "metadata": {},
   "source": [
    "## 3.2 <a name=\"3.2\"></a>Aggregated Values "
   ]
  },
  {
   "cell_type": "markdown",
   "id": "6bec198d",
   "metadata": {},
   "source": [
    "### Company with best reviews overall"
   ]
  },
  {
   "cell_type": "code",
   "execution_count": 274,
   "id": "cc265bc5",
   "metadata": {},
   "outputs": [
    {
     "data": {
      "text/html": [
       "<div>\n",
       "<style scoped>\n",
       "    .dataframe tbody tr th:only-of-type {\n",
       "        vertical-align: middle;\n",
       "    }\n",
       "\n",
       "    .dataframe tbody tr th {\n",
       "        vertical-align: top;\n",
       "    }\n",
       "\n",
       "    .dataframe thead th {\n",
       "        text-align: right;\n",
       "    }\n",
       "</style>\n",
       "<table border=\"1\" class=\"dataframe\">\n",
       "  <thead>\n",
       "    <tr style=\"text-align: right;\">\n",
       "      <th></th>\n",
       "      <th>overall-ratings</th>\n",
       "    </tr>\n",
       "    <tr>\n",
       "      <th>company</th>\n",
       "      <th></th>\n",
       "    </tr>\n",
       "  </thead>\n",
       "  <tbody>\n",
       "    <tr>\n",
       "      <th>facebook</th>\n",
       "      <td>4.511643</td>\n",
       "    </tr>\n",
       "  </tbody>\n",
       "</table>\n",
       "</div>"
      ],
      "text/plain": [
       "          overall-ratings\n",
       "company                  \n",
       "facebook         4.511643"
      ]
     },
     "execution_count": 274,
     "metadata": {},
     "output_type": "execute_result"
    }
   ],
   "source": [
    "# Group overalldf by 'company', calculate mean ratings, sort descending, and select the top row\n",
    "overalldf.groupby(['company'])[['overall-ratings']].mean().sort_values(by='overall-ratings', ascending=False)[0:1]"
   ]
  },
  {
   "cell_type": "markdown",
   "id": "f099dc1f",
   "metadata": {},
   "source": [
    "### Location with best reviews (from locations with above median number of reviews)"
   ]
  },
  {
   "cell_type": "code",
   "execution_count": 275,
   "id": "e11106f9",
   "metadata": {
    "scrolled": true
   },
   "outputs": [
    {
     "data": {
      "text/html": [
       "<div>\n",
       "<style scoped>\n",
       "    .dataframe tbody tr th:only-of-type {\n",
       "        vertical-align: middle;\n",
       "    }\n",
       "\n",
       "    .dataframe tbody tr th {\n",
       "        vertical-align: top;\n",
       "    }\n",
       "\n",
       "    .dataframe thead th {\n",
       "        text-align: right;\n",
       "    }\n",
       "</style>\n",
       "<table border=\"1\" class=\"dataframe\">\n",
       "  <thead>\n",
       "    <tr style=\"text-align: right;\">\n",
       "      <th></th>\n",
       "      <th>overall-ratings</th>\n",
       "    </tr>\n",
       "    <tr>\n",
       "      <th>location</th>\n",
       "      <th></th>\n",
       "    </tr>\n",
       "  </thead>\n",
       "  <tbody>\n",
       "    <tr>\n",
       "      <th>Menlo Park, CA</th>\n",
       "      <td>4.550995</td>\n",
       "    </tr>\n",
       "  </tbody>\n",
       "</table>\n",
       "</div>"
      ],
      "text/plain": [
       "                overall-ratings\n",
       "location                       \n",
       "Menlo Park, CA         4.550995"
      ]
     },
     "execution_count": 275,
     "metadata": {},
     "output_type": "execute_result"
    }
   ],
   "source": [
    "# Group locationdf by'location', calculate mean ratings, sort descending, and select the top row\n",
    "locationdf.groupby(['location'])[['overall-ratings']].mean().sort_values(by='overall-ratings', ascending=False)[0:1]"
   ]
  },
  {
   "cell_type": "markdown",
   "id": "73b30dcb",
   "metadata": {},
   "source": [
    "### Trend overtime (review score) for Amazon"
   ]
  },
  {
   "cell_type": "code",
   "execution_count": 276,
   "id": "055aa125",
   "metadata": {},
   "outputs": [
    {
     "data": {
      "text/html": [
       "<div>\n",
       "<style scoped>\n",
       "    .dataframe tbody tr th:only-of-type {\n",
       "        vertical-align: middle;\n",
       "    }\n",
       "\n",
       "    .dataframe tbody tr th {\n",
       "        vertical-align: top;\n",
       "    }\n",
       "\n",
       "    .dataframe thead th {\n",
       "        text-align: right;\n",
       "    }\n",
       "</style>\n",
       "<table border=\"1\" class=\"dataframe\">\n",
       "  <thead>\n",
       "    <tr style=\"text-align: right;\">\n",
       "      <th></th>\n",
       "      <th></th>\n",
       "      <th>overall-ratings</th>\n",
       "    </tr>\n",
       "    <tr>\n",
       "      <th>company</th>\n",
       "      <th>dates</th>\n",
       "      <th></th>\n",
       "    </tr>\n",
       "  </thead>\n",
       "  <tbody>\n",
       "    <tr>\n",
       "      <th rowspan=\"5\" valign=\"top\">amazon</th>\n",
       "      <th>2008-04-30</th>\n",
       "      <td>2.333333</td>\n",
       "    </tr>\n",
       "    <tr>\n",
       "      <th>2008-05-31</th>\n",
       "      <td>3.500000</td>\n",
       "    </tr>\n",
       "    <tr>\n",
       "      <th>2008-06-30</th>\n",
       "      <td>3.220930</td>\n",
       "    </tr>\n",
       "    <tr>\n",
       "      <th>2008-07-31</th>\n",
       "      <td>3.269231</td>\n",
       "    </tr>\n",
       "    <tr>\n",
       "      <th>2008-08-31</th>\n",
       "      <td>3.565217</td>\n",
       "    </tr>\n",
       "  </tbody>\n",
       "</table>\n",
       "</div>"
      ],
      "text/plain": [
       "                    overall-ratings\n",
       "company dates                      \n",
       "amazon  2008-04-30         2.333333\n",
       "        2008-05-31         3.500000\n",
       "        2008-06-30         3.220930\n",
       "        2008-07-31         3.269231\n",
       "        2008-08-31         3.565217"
      ]
     },
     "execution_count": 276,
     "metadata": {},
     "output_type": "execute_result"
    }
   ],
   "source": [
    "# Select rows where 'company' is amazon, group by months, calculate mean ratings\n",
    "amazondf = overalldf[overalldf['company'] == 'amazon'].groupby(['company', pd.Grouper(key=\"dates\", freq=\"M\")]).mean()\n",
    "amazondf.head()"
   ]
  },
  {
   "cell_type": "markdown",
   "id": "18b38181",
   "metadata": {},
   "source": [
    "### Trend overtime (review score) for Apple"
   ]
  },
  {
   "cell_type": "code",
   "execution_count": 277,
   "id": "52ac3332",
   "metadata": {},
   "outputs": [
    {
     "data": {
      "text/html": [
       "<div>\n",
       "<style scoped>\n",
       "    .dataframe tbody tr th:only-of-type {\n",
       "        vertical-align: middle;\n",
       "    }\n",
       "\n",
       "    .dataframe tbody tr th {\n",
       "        vertical-align: top;\n",
       "    }\n",
       "\n",
       "    .dataframe thead th {\n",
       "        text-align: right;\n",
       "    }\n",
       "</style>\n",
       "<table border=\"1\" class=\"dataframe\">\n",
       "  <thead>\n",
       "    <tr style=\"text-align: right;\">\n",
       "      <th></th>\n",
       "      <th></th>\n",
       "      <th>overall-ratings</th>\n",
       "    </tr>\n",
       "    <tr>\n",
       "      <th>company</th>\n",
       "      <th>dates</th>\n",
       "      <th></th>\n",
       "    </tr>\n",
       "  </thead>\n",
       "  <tbody>\n",
       "    <tr>\n",
       "      <th rowspan=\"5\" valign=\"top\">apple</th>\n",
       "      <th>2008-01-31</th>\n",
       "      <td>5.000000</td>\n",
       "    </tr>\n",
       "    <tr>\n",
       "      <th>2008-02-29</th>\n",
       "      <td>4.500000</td>\n",
       "    </tr>\n",
       "    <tr>\n",
       "      <th>2008-04-30</th>\n",
       "      <td>4.450000</td>\n",
       "    </tr>\n",
       "    <tr>\n",
       "      <th>2008-05-31</th>\n",
       "      <td>4.162162</td>\n",
       "    </tr>\n",
       "    <tr>\n",
       "      <th>2008-06-30</th>\n",
       "      <td>3.637037</td>\n",
       "    </tr>\n",
       "  </tbody>\n",
       "</table>\n",
       "</div>"
      ],
      "text/plain": [
       "                    overall-ratings\n",
       "company dates                      \n",
       "apple   2008-01-31         5.000000\n",
       "        2008-02-29         4.500000\n",
       "        2008-04-30         4.450000\n",
       "        2008-05-31         4.162162\n",
       "        2008-06-30         3.637037"
      ]
     },
     "execution_count": 277,
     "metadata": {},
     "output_type": "execute_result"
    }
   ],
   "source": [
    "# Select rows where 'company' is apple, group by months, calculate mean ratings\n",
    "appledf = overalldf[overalldf['company'] == 'apple'].groupby(['company', pd.Grouper(key=\"dates\", freq=\"M\")]).mean()\n",
    "appledf.head()"
   ]
  },
  {
   "cell_type": "markdown",
   "id": "06ec5bd1",
   "metadata": {},
   "source": [
    "### Trend overtime (review score) for Facebook"
   ]
  },
  {
   "cell_type": "code",
   "execution_count": 278,
   "id": "33f0b019",
   "metadata": {},
   "outputs": [
    {
     "data": {
      "text/html": [
       "<div>\n",
       "<style scoped>\n",
       "    .dataframe tbody tr th:only-of-type {\n",
       "        vertical-align: middle;\n",
       "    }\n",
       "\n",
       "    .dataframe tbody tr th {\n",
       "        vertical-align: top;\n",
       "    }\n",
       "\n",
       "    .dataframe thead th {\n",
       "        text-align: right;\n",
       "    }\n",
       "</style>\n",
       "<table border=\"1\" class=\"dataframe\">\n",
       "  <thead>\n",
       "    <tr style=\"text-align: right;\">\n",
       "      <th></th>\n",
       "      <th></th>\n",
       "      <th>overall-ratings</th>\n",
       "    </tr>\n",
       "    <tr>\n",
       "      <th>company</th>\n",
       "      <th>dates</th>\n",
       "      <th></th>\n",
       "    </tr>\n",
       "  </thead>\n",
       "  <tbody>\n",
       "    <tr>\n",
       "      <th rowspan=\"5\" valign=\"top\">facebook</th>\n",
       "      <th>2008-06-30</th>\n",
       "      <td>3.0</td>\n",
       "    </tr>\n",
       "    <tr>\n",
       "      <th>2008-07-31</th>\n",
       "      <td>5.0</td>\n",
       "    </tr>\n",
       "    <tr>\n",
       "      <th>2008-08-31</th>\n",
       "      <td>5.0</td>\n",
       "    </tr>\n",
       "    <tr>\n",
       "      <th>2008-09-30</th>\n",
       "      <td>4.0</td>\n",
       "    </tr>\n",
       "    <tr>\n",
       "      <th>2008-12-31</th>\n",
       "      <td>4.0</td>\n",
       "    </tr>\n",
       "  </tbody>\n",
       "</table>\n",
       "</div>"
      ],
      "text/plain": [
       "                     overall-ratings\n",
       "company  dates                      \n",
       "facebook 2008-06-30              3.0\n",
       "         2008-07-31              5.0\n",
       "         2008-08-31              5.0\n",
       "         2008-09-30              4.0\n",
       "         2008-12-31              4.0"
      ]
     },
     "execution_count": 278,
     "metadata": {},
     "output_type": "execute_result"
    }
   ],
   "source": [
    "# Select rows where 'company' is facebook, group by months, calculate mean ratings\n",
    "facebookdf = overalldf[overalldf['company'] == 'facebook'].groupby(['company', pd.Grouper(key=\"dates\", freq=\"M\")]).mean()\n",
    "facebookdf.head()"
   ]
  },
  {
   "cell_type": "markdown",
   "id": "7c499624",
   "metadata": {},
   "source": [
    "### Trend overtime (review score) for Google"
   ]
  },
  {
   "cell_type": "code",
   "execution_count": 279,
   "id": "e23b0bf6",
   "metadata": {},
   "outputs": [
    {
     "data": {
      "text/html": [
       "<div>\n",
       "<style scoped>\n",
       "    .dataframe tbody tr th:only-of-type {\n",
       "        vertical-align: middle;\n",
       "    }\n",
       "\n",
       "    .dataframe tbody tr th {\n",
       "        vertical-align: top;\n",
       "    }\n",
       "\n",
       "    .dataframe thead th {\n",
       "        text-align: right;\n",
       "    }\n",
       "</style>\n",
       "<table border=\"1\" class=\"dataframe\">\n",
       "  <thead>\n",
       "    <tr style=\"text-align: right;\">\n",
       "      <th></th>\n",
       "      <th></th>\n",
       "      <th>overall-ratings</th>\n",
       "    </tr>\n",
       "    <tr>\n",
       "      <th>company</th>\n",
       "      <th>dates</th>\n",
       "      <th></th>\n",
       "    </tr>\n",
       "  </thead>\n",
       "  <tbody>\n",
       "    <tr>\n",
       "      <th rowspan=\"5\" valign=\"top\">google</th>\n",
       "      <th>2008-02-29</th>\n",
       "      <td>4.571429</td>\n",
       "    </tr>\n",
       "    <tr>\n",
       "      <th>2008-03-31</th>\n",
       "      <td>4.375000</td>\n",
       "    </tr>\n",
       "    <tr>\n",
       "      <th>2008-04-30</th>\n",
       "      <td>4.500000</td>\n",
       "    </tr>\n",
       "    <tr>\n",
       "      <th>2008-05-31</th>\n",
       "      <td>3.700000</td>\n",
       "    </tr>\n",
       "    <tr>\n",
       "      <th>2008-06-30</th>\n",
       "      <td>4.013158</td>\n",
       "    </tr>\n",
       "  </tbody>\n",
       "</table>\n",
       "</div>"
      ],
      "text/plain": [
       "                    overall-ratings\n",
       "company dates                      \n",
       "google  2008-02-29         4.571429\n",
       "        2008-03-31         4.375000\n",
       "        2008-04-30         4.500000\n",
       "        2008-05-31         3.700000\n",
       "        2008-06-30         4.013158"
      ]
     },
     "execution_count": 279,
     "metadata": {},
     "output_type": "execute_result"
    }
   ],
   "source": [
    "# Select rows where 'company' is google, group by months, calculate mean ratings\n",
    "googledf = overalldf[overalldf['company'] == 'google'].groupby(['company', pd.Grouper(key=\"dates\", freq=\"M\")]).mean()\n",
    "googledf.head()"
   ]
  },
  {
   "cell_type": "markdown",
   "id": "a5203c24",
   "metadata": {},
   "source": [
    "### Trend overtime (review score) for Microsoft"
   ]
  },
  {
   "cell_type": "code",
   "execution_count": 280,
   "id": "484a5aa8",
   "metadata": {},
   "outputs": [
    {
     "data": {
      "text/html": [
       "<div>\n",
       "<style scoped>\n",
       "    .dataframe tbody tr th:only-of-type {\n",
       "        vertical-align: middle;\n",
       "    }\n",
       "\n",
       "    .dataframe tbody tr th {\n",
       "        vertical-align: top;\n",
       "    }\n",
       "\n",
       "    .dataframe thead th {\n",
       "        text-align: right;\n",
       "    }\n",
       "</style>\n",
       "<table border=\"1\" class=\"dataframe\">\n",
       "  <thead>\n",
       "    <tr style=\"text-align: right;\">\n",
       "      <th></th>\n",
       "      <th></th>\n",
       "      <th>overall-ratings</th>\n",
       "    </tr>\n",
       "    <tr>\n",
       "      <th>company</th>\n",
       "      <th>dates</th>\n",
       "      <th></th>\n",
       "    </tr>\n",
       "  </thead>\n",
       "  <tbody>\n",
       "    <tr>\n",
       "      <th rowspan=\"5\" valign=\"top\">microsoft</th>\n",
       "      <th>2008-02-29</th>\n",
       "      <td>5.000000</td>\n",
       "    </tr>\n",
       "    <tr>\n",
       "      <th>2008-03-31</th>\n",
       "      <td>5.000000</td>\n",
       "    </tr>\n",
       "    <tr>\n",
       "      <th>2008-04-30</th>\n",
       "      <td>4.136364</td>\n",
       "    </tr>\n",
       "    <tr>\n",
       "      <th>2008-05-31</th>\n",
       "      <td>4.187500</td>\n",
       "    </tr>\n",
       "    <tr>\n",
       "      <th>2008-06-30</th>\n",
       "      <td>3.672489</td>\n",
       "    </tr>\n",
       "  </tbody>\n",
       "</table>\n",
       "</div>"
      ],
      "text/plain": [
       "                      overall-ratings\n",
       "company   dates                      \n",
       "microsoft 2008-02-29         5.000000\n",
       "          2008-03-31         5.000000\n",
       "          2008-04-30         4.136364\n",
       "          2008-05-31         4.187500\n",
       "          2008-06-30         3.672489"
      ]
     },
     "execution_count": 280,
     "metadata": {},
     "output_type": "execute_result"
    }
   ],
   "source": [
    "# Select rows where 'company' is microsoft, group by months, calculate mean ratings\n",
    "microsoftdf = overalldf[overalldf['company'] == 'microsoft'].groupby(['company', pd.Grouper(key=\"dates\", freq=\"M\")]).mean()\n",
    "microsoftdf.head()"
   ]
  },
  {
   "cell_type": "markdown",
   "id": "9c48ef9a",
   "metadata": {},
   "source": [
    "### Trend overtime (review score) for Microsoft"
   ]
  },
  {
   "cell_type": "code",
   "execution_count": 281,
   "id": "59dcacf7",
   "metadata": {},
   "outputs": [
    {
     "data": {
      "text/html": [
       "<div>\n",
       "<style scoped>\n",
       "    .dataframe tbody tr th:only-of-type {\n",
       "        vertical-align: middle;\n",
       "    }\n",
       "\n",
       "    .dataframe tbody tr th {\n",
       "        vertical-align: top;\n",
       "    }\n",
       "\n",
       "    .dataframe thead th {\n",
       "        text-align: right;\n",
       "    }\n",
       "</style>\n",
       "<table border=\"1\" class=\"dataframe\">\n",
       "  <thead>\n",
       "    <tr style=\"text-align: right;\">\n",
       "      <th></th>\n",
       "      <th></th>\n",
       "      <th>overall-ratings</th>\n",
       "    </tr>\n",
       "    <tr>\n",
       "      <th>company</th>\n",
       "      <th>dates</th>\n",
       "      <th></th>\n",
       "    </tr>\n",
       "  </thead>\n",
       "  <tbody>\n",
       "    <tr>\n",
       "      <th rowspan=\"5\" valign=\"top\">netflix</th>\n",
       "      <th>2008-02-29</th>\n",
       "      <td>5.000000</td>\n",
       "    </tr>\n",
       "    <tr>\n",
       "      <th>2008-04-30</th>\n",
       "      <td>5.000000</td>\n",
       "    </tr>\n",
       "    <tr>\n",
       "      <th>2008-05-31</th>\n",
       "      <td>5.000000</td>\n",
       "    </tr>\n",
       "    <tr>\n",
       "      <th>2008-06-30</th>\n",
       "      <td>5.000000</td>\n",
       "    </tr>\n",
       "    <tr>\n",
       "      <th>2008-07-31</th>\n",
       "      <td>4.666667</td>\n",
       "    </tr>\n",
       "  </tbody>\n",
       "</table>\n",
       "</div>"
      ],
      "text/plain": [
       "                    overall-ratings\n",
       "company dates                      \n",
       "netflix 2008-02-29         5.000000\n",
       "        2008-04-30         5.000000\n",
       "        2008-05-31         5.000000\n",
       "        2008-06-30         5.000000\n",
       "        2008-07-31         4.666667"
      ]
     },
     "execution_count": 281,
     "metadata": {},
     "output_type": "execute_result"
    }
   ],
   "source": [
    "# Select rows where 'company' is netflix, group by months, calculate mean ratings\n",
    "netflixdf = overalldf[overalldf['company'] == 'netflix'].groupby(['company', pd.Grouper(key=\"dates\", freq=\"M\")]).mean()\n",
    "netflixdf.head()"
   ]
  },
  {
   "cell_type": "markdown",
   "id": "4869b0df",
   "metadata": {},
   "source": [
    "### Company with best reviews in 2018"
   ]
  },
  {
   "cell_type": "code",
   "execution_count": 282,
   "id": "db588d06",
   "metadata": {},
   "outputs": [],
   "source": [
    "# Select rows from overalldf where 'dates' is after 2017-12-31, and drop NaN\n",
    "reviews2018 = overalldf.where(overalldf['dates'] > pd.to_datetime('2017-12-31')).dropna()"
   ]
  },
  {
   "cell_type": "code",
   "execution_count": 283,
   "id": "1293e32b",
   "metadata": {},
   "outputs": [],
   "source": [
    "# Group them by 'company' and year, and calculate mean ratings\n",
    "reviews2018 = reviews2018.groupby(['company', pd.Grouper(key=\"dates\", freq=\"Y\")]).mean()"
   ]
  },
  {
   "cell_type": "code",
   "execution_count": 284,
   "id": "acad2eba",
   "metadata": {},
   "outputs": [
    {
     "data": {
      "text/html": [
       "<div>\n",
       "<style scoped>\n",
       "    .dataframe tbody tr th:only-of-type {\n",
       "        vertical-align: middle;\n",
       "    }\n",
       "\n",
       "    .dataframe tbody tr th {\n",
       "        vertical-align: top;\n",
       "    }\n",
       "\n",
       "    .dataframe thead th {\n",
       "        text-align: right;\n",
       "    }\n",
       "</style>\n",
       "<table border=\"1\" class=\"dataframe\">\n",
       "  <thead>\n",
       "    <tr style=\"text-align: right;\">\n",
       "      <th></th>\n",
       "      <th></th>\n",
       "      <th>overall-ratings</th>\n",
       "    </tr>\n",
       "    <tr>\n",
       "      <th>company</th>\n",
       "      <th>dates</th>\n",
       "      <th></th>\n",
       "    </tr>\n",
       "  </thead>\n",
       "  <tbody>\n",
       "    <tr>\n",
       "      <th>google</th>\n",
       "      <th>2018-12-31</th>\n",
       "      <td>4.383309</td>\n",
       "    </tr>\n",
       "  </tbody>\n",
       "</table>\n",
       "</div>"
      ],
      "text/plain": [
       "                    overall-ratings\n",
       "company dates                      \n",
       "google  2018-12-31         4.383309"
      ]
     },
     "execution_count": 284,
     "metadata": {},
     "output_type": "execute_result"
    }
   ],
   "source": [
    "# Sort descending and select the top row\n",
    "reviews2018.sort_values(by='overall-ratings', ascending=False)[0:1]"
   ]
  },
  {
   "cell_type": "markdown",
   "id": "ba166c7f",
   "metadata": {},
   "source": [
    "### Comparison of companies in terms of star ratings"
   ]
  },
  {
   "cell_type": "code",
   "execution_count": 285,
   "id": "ff79fec9",
   "metadata": {},
   "outputs": [
    {
     "data": {
      "text/html": [
       "<div>\n",
       "<style scoped>\n",
       "    .dataframe tbody tr th:only-of-type {\n",
       "        vertical-align: middle;\n",
       "    }\n",
       "\n",
       "    .dataframe tbody tr th {\n",
       "        vertical-align: top;\n",
       "    }\n",
       "\n",
       "    .dataframe thead th {\n",
       "        text-align: right;\n",
       "    }\n",
       "</style>\n",
       "<table border=\"1\" class=\"dataframe\">\n",
       "  <thead>\n",
       "    <tr style=\"text-align: right;\">\n",
       "      <th></th>\n",
       "      <th>work-balance-stars</th>\n",
       "      <th>culture-values-stars</th>\n",
       "      <th>carrer-opportunities-stars</th>\n",
       "      <th>comp-benefit-stars</th>\n",
       "      <th>senior-mangemnet-stars</th>\n",
       "    </tr>\n",
       "    <tr>\n",
       "      <th>company</th>\n",
       "      <th></th>\n",
       "      <th></th>\n",
       "      <th></th>\n",
       "      <th></th>\n",
       "      <th></th>\n",
       "    </tr>\n",
       "  </thead>\n",
       "  <tbody>\n",
       "    <tr>\n",
       "      <th>amazon</th>\n",
       "      <td>3.009746</td>\n",
       "      <td>3.599313</td>\n",
       "      <td>3.643508</td>\n",
       "      <td>3.724969</td>\n",
       "      <td>3.149278</td>\n",
       "    </tr>\n",
       "    <tr>\n",
       "      <th>apple</th>\n",
       "      <td>3.380878</td>\n",
       "      <td>4.277108</td>\n",
       "      <td>3.425962</td>\n",
       "      <td>4.019821</td>\n",
       "      <td>3.518461</td>\n",
       "    </tr>\n",
       "    <tr>\n",
       "      <th>facebook</th>\n",
       "      <td>3.930459</td>\n",
       "      <td>4.552549</td>\n",
       "      <td>4.374764</td>\n",
       "      <td>4.570485</td>\n",
       "      <td>4.282882</td>\n",
       "    </tr>\n",
       "    <tr>\n",
       "      <th>google</th>\n",
       "      <td>3.998273</td>\n",
       "      <td>4.529547</td>\n",
       "      <td>3.967191</td>\n",
       "      <td>4.481453</td>\n",
       "      <td>3.873881</td>\n",
       "    </tr>\n",
       "    <tr>\n",
       "      <th>microsoft</th>\n",
       "      <td>3.641264</td>\n",
       "      <td>3.740524</td>\n",
       "      <td>3.691776</td>\n",
       "      <td>4.002960</td>\n",
       "      <td>3.127376</td>\n",
       "    </tr>\n",
       "    <tr>\n",
       "      <th>netflix</th>\n",
       "      <td>3.244444</td>\n",
       "      <td>3.700000</td>\n",
       "      <td>3.057407</td>\n",
       "      <td>4.118519</td>\n",
       "      <td>3.183951</td>\n",
       "    </tr>\n",
       "  </tbody>\n",
       "</table>\n",
       "</div>"
      ],
      "text/plain": [
       "           work-balance-stars  culture-values-stars  \\\n",
       "company                                               \n",
       "amazon               3.009746              3.599313   \n",
       "apple                3.380878              4.277108   \n",
       "facebook             3.930459              4.552549   \n",
       "google               3.998273              4.529547   \n",
       "microsoft            3.641264              3.740524   \n",
       "netflix              3.244444              3.700000   \n",
       "\n",
       "           carrer-opportunities-stars  comp-benefit-stars  \\\n",
       "company                                                     \n",
       "amazon                       3.643508            3.724969   \n",
       "apple                        3.425962            4.019821   \n",
       "facebook                     4.374764            4.570485   \n",
       "google                       3.967191            4.481453   \n",
       "microsoft                    3.691776            4.002960   \n",
       "netflix                      3.057407            4.118519   \n",
       "\n",
       "           senior-mangemnet-stars  \n",
       "company                            \n",
       "amazon                   3.149278  \n",
       "apple                    3.518461  \n",
       "facebook                 4.282882  \n",
       "google                   3.873881  \n",
       "microsoft                3.127376  \n",
       "netflix                  3.183951  "
      ]
     },
     "execution_count": 285,
     "metadata": {},
     "output_type": "execute_result"
    }
   ],
   "source": [
    "# Calculate mean ratings per company for work-life balance, culture values, carreer opportunities, company benefits, and senior management ratings\n",
    "meanstardf = stardf.groupby(['company']).mean()\n",
    "meanstardf"
   ]
  },
  {
   "cell_type": "markdown",
   "id": "57aeb1ce",
   "metadata": {},
   "source": [
    "## 3.3 <a name=\"3.3\"></a>Additional Data"
   ]
  },
  {
   "cell_type": "markdown",
   "id": "3e536c88",
   "metadata": {},
   "source": [
    "### Four companies' annual revenue and number of employees"
   ]
  },
  {
   "cell_type": "code",
   "execution_count": 286,
   "id": "f113972e",
   "metadata": {},
   "outputs": [],
   "source": [
    "# Read the Wikipedia page for List of largest technology companies by revenue\n",
    "companydata = pd.read_html('https://en.wikipedia.org/wiki/List_of_largest_technology_companies_by_revenue')"
   ]
  },
  {
   "cell_type": "code",
   "execution_count": 287,
   "id": "3f9f4114",
   "metadata": {},
   "outputs": [],
   "source": [
    "# Select table and required rows and columns\n",
    "companydata = companydata[1].iloc[[0,2,4,7],2:5]"
   ]
  },
  {
   "cell_type": "code",
   "execution_count": 288,
   "id": "5e572af0",
   "metadata": {},
   "outputs": [],
   "source": [
    "# Set column names\n",
    "companydata.columns = ['company', 'revenue($B)', 'employees']"
   ]
  },
  {
   "cell_type": "code",
   "execution_count": 289,
   "id": "02ad793f",
   "metadata": {},
   "outputs": [],
   "source": [
    "# Clean the company column\n",
    "companydata['company'] = companydata['company'].str.lower().replace({'alphabet':'google', 'meta':'facebook'})"
   ]
  },
  {
   "cell_type": "code",
   "execution_count": 290,
   "id": "203f9d2f",
   "metadata": {},
   "outputs": [],
   "source": [
    "# Clean the revenue($B) column\n",
    "companydata['revenue($B)'] = companydata['revenue($B)'].str.replace(\"$\", \"\", regex = False)"
   ]
  },
  {
   "cell_type": "code",
   "execution_count": 291,
   "id": "2c9d0515",
   "metadata": {},
   "outputs": [
    {
     "data": {
      "text/html": [
       "<div>\n",
       "<style scoped>\n",
       "    .dataframe tbody tr th:only-of-type {\n",
       "        vertical-align: middle;\n",
       "    }\n",
       "\n",
       "    .dataframe tbody tr th {\n",
       "        vertical-align: top;\n",
       "    }\n",
       "\n",
       "    .dataframe thead th {\n",
       "        text-align: right;\n",
       "    }\n",
       "</style>\n",
       "<table border=\"1\" class=\"dataframe\">\n",
       "  <thead>\n",
       "    <tr style=\"text-align: right;\">\n",
       "      <th></th>\n",
       "      <th>company</th>\n",
       "      <th>revenue($B)</th>\n",
       "      <th>employees</th>\n",
       "    </tr>\n",
       "  </thead>\n",
       "  <tbody>\n",
       "    <tr>\n",
       "      <th>0</th>\n",
       "      <td>apple</td>\n",
       "      <td>274.515</td>\n",
       "      <td>147000</td>\n",
       "    </tr>\n",
       "    <tr>\n",
       "      <th>2</th>\n",
       "      <td>google</td>\n",
       "      <td>182.527</td>\n",
       "      <td>135301</td>\n",
       "    </tr>\n",
       "    <tr>\n",
       "      <th>4</th>\n",
       "      <td>microsoft</td>\n",
       "      <td>143.015</td>\n",
       "      <td>163000</td>\n",
       "    </tr>\n",
       "    <tr>\n",
       "      <th>7</th>\n",
       "      <td>facebook</td>\n",
       "      <td>85.965</td>\n",
       "      <td>58604</td>\n",
       "    </tr>\n",
       "  </tbody>\n",
       "</table>\n",
       "</div>"
      ],
      "text/plain": [
       "     company revenue($B)  employees\n",
       "0      apple     274.515     147000\n",
       "2     google     182.527     135301\n",
       "4  microsoft     143.015     163000\n",
       "7   facebook      85.965      58604"
      ]
     },
     "execution_count": 291,
     "metadata": {},
     "output_type": "execute_result"
    }
   ],
   "source": [
    "companydata"
   ]
  },
  {
   "cell_type": "markdown",
   "id": "8bc4d9b2",
   "metadata": {},
   "source": [
    "### Amazon's annual revenue and number of employees"
   ]
  },
  {
   "cell_type": "code",
   "execution_count": 292,
   "id": "1391d23d",
   "metadata": {},
   "outputs": [],
   "source": [
    "# Read the Wikipedia page for Amazon (company)\n",
    "amazondata = pd.read_html('https://en.wikipedia.org/wiki/Amazon_(company)')"
   ]
  },
  {
   "cell_type": "code",
   "execution_count": 293,
   "id": "9b3f29f1",
   "metadata": {},
   "outputs": [],
   "source": [
    "# Select table and required rows and columns\n",
    "amazondata = amazondata[0].iloc[[2,15,21],1:2].transpose()"
   ]
  },
  {
   "cell_type": "code",
   "execution_count": 294,
   "id": "f979f423",
   "metadata": {},
   "outputs": [],
   "source": [
    "# Set column names\n",
    "amazondata.columns = ['company', 'revenue($B)', 'employees']"
   ]
  },
  {
   "cell_type": "code",
   "execution_count": 295,
   "id": "a412499a",
   "metadata": {},
   "outputs": [],
   "source": [
    "# Clean the company column\n",
    "amazondata['company'] = amazondata['company'].str.lower()"
   ]
  },
  {
   "cell_type": "code",
   "execution_count": 296,
   "id": "7cc84e4a",
   "metadata": {},
   "outputs": [],
   "source": [
    "# Clean the revenue($B) column\n",
    "amazondata['revenue($B)'] = amazondata['revenue($B)'].str.replace('US$','', regex = False)\n",
    "amazondata['revenue($B)'] = amazondata['revenue($B)'].str[:7]"
   ]
  },
  {
   "cell_type": "code",
   "execution_count": 297,
   "id": "d39602e3",
   "metadata": {},
   "outputs": [],
   "source": [
    "# Clean the employees column\n",
    "amazondata['employees'] = amazondata['employees'].str[:9]\n",
    "amazondata['employees'] = amazondata['employees'].str.replace(',','', regex = False)"
   ]
  },
  {
   "cell_type": "code",
   "execution_count": 298,
   "id": "f8117c11",
   "metadata": {},
   "outputs": [
    {
     "data": {
      "text/html": [
       "<div>\n",
       "<style scoped>\n",
       "    .dataframe tbody tr th:only-of-type {\n",
       "        vertical-align: middle;\n",
       "    }\n",
       "\n",
       "    .dataframe tbody tr th {\n",
       "        vertical-align: top;\n",
       "    }\n",
       "\n",
       "    .dataframe thead th {\n",
       "        text-align: right;\n",
       "    }\n",
       "</style>\n",
       "<table border=\"1\" class=\"dataframe\">\n",
       "  <thead>\n",
       "    <tr style=\"text-align: right;\">\n",
       "      <th></th>\n",
       "      <th>company</th>\n",
       "      <th>revenue($B)</th>\n",
       "      <th>employees</th>\n",
       "    </tr>\n",
       "  </thead>\n",
       "  <tbody>\n",
       "    <tr>\n",
       "      <th>1</th>\n",
       "      <td>amazon</td>\n",
       "      <td>469.822</td>\n",
       "      <td>1622000</td>\n",
       "    </tr>\n",
       "  </tbody>\n",
       "</table>\n",
       "</div>"
      ],
      "text/plain": [
       "  company revenue($B) employees\n",
       "1  amazon     469.822   1622000"
      ]
     },
     "execution_count": 298,
     "metadata": {},
     "output_type": "execute_result"
    }
   ],
   "source": [
    "amazondata"
   ]
  },
  {
   "cell_type": "markdown",
   "id": "e3f81ec7",
   "metadata": {},
   "source": [
    "### Netflix's annual revenue and number of employees"
   ]
  },
  {
   "cell_type": "code",
   "execution_count": 299,
   "id": "f0a928f8",
   "metadata": {},
   "outputs": [],
   "source": [
    "# Read the Wikipedia page for Netflix\n",
    "netflixdata = pd.read_html('https://en.wikipedia.org/wiki/Netflix')"
   ]
  },
  {
   "cell_type": "code",
   "execution_count": 300,
   "id": "6bd0e984",
   "metadata": {},
   "outputs": [],
   "source": [
    "# Select table and required rows and columns\n",
    "netflixdata = netflixdata[0].iloc[[0,14,19],1:2].transpose()"
   ]
  },
  {
   "cell_type": "code",
   "execution_count": 301,
   "id": "e480f5d3",
   "metadata": {},
   "outputs": [],
   "source": [
    "# Set column names\n",
    "netflixdata.columns = ['company', 'revenue($B)', 'employees']"
   ]
  },
  {
   "cell_type": "code",
   "execution_count": 302,
   "id": "3c3047bf",
   "metadata": {},
   "outputs": [],
   "source": [
    "# Clean the company column\n",
    "netflixdata['company'] = 'netflix'"
   ]
  },
  {
   "cell_type": "code",
   "execution_count": 303,
   "id": "75319aaf",
   "metadata": {},
   "outputs": [],
   "source": [
    "# Clean the revenue($B) column\n",
    "netflixdata['revenue($B)'] = netflixdata['revenue($B)'].str.replace('US$','', regex = False)\n",
    "netflixdata['revenue($B)'] = netflixdata['revenue($B)'].str[:4]"
   ]
  },
  {
   "cell_type": "code",
   "execution_count": 304,
   "id": "31b494e3",
   "metadata": {},
   "outputs": [],
   "source": [
    "# Clean the employees column\n",
    "netflixdata['employees'] = netflixdata['employees'].str[:6]\n",
    "netflixdata['employees'] = netflixdata['employees'].str.replace(',','', regex = False)"
   ]
  },
  {
   "cell_type": "code",
   "execution_count": 305,
   "id": "b0552bb9",
   "metadata": {},
   "outputs": [
    {
     "data": {
      "text/html": [
       "<div>\n",
       "<style scoped>\n",
       "    .dataframe tbody tr th:only-of-type {\n",
       "        vertical-align: middle;\n",
       "    }\n",
       "\n",
       "    .dataframe tbody tr th {\n",
       "        vertical-align: top;\n",
       "    }\n",
       "\n",
       "    .dataframe thead th {\n",
       "        text-align: right;\n",
       "    }\n",
       "</style>\n",
       "<table border=\"1\" class=\"dataframe\">\n",
       "  <thead>\n",
       "    <tr style=\"text-align: right;\">\n",
       "      <th></th>\n",
       "      <th>company</th>\n",
       "      <th>revenue($B)</th>\n",
       "      <th>employees</th>\n",
       "    </tr>\n",
       "  </thead>\n",
       "  <tbody>\n",
       "    <tr>\n",
       "      <th>1</th>\n",
       "      <td>netflix</td>\n",
       "      <td>29.7</td>\n",
       "      <td>12135</td>\n",
       "    </tr>\n",
       "  </tbody>\n",
       "</table>\n",
       "</div>"
      ],
      "text/plain": [
       "   company revenue($B) employees\n",
       "1  netflix        29.7     12135"
      ]
     },
     "execution_count": 305,
     "metadata": {},
     "output_type": "execute_result"
    }
   ],
   "source": [
    "netflixdata"
   ]
  },
  {
   "cell_type": "markdown",
   "id": "bf066bec",
   "metadata": {},
   "source": [
    "### Companies' female representation"
   ]
  },
  {
   "cell_type": "markdown",
   "id": "89f0424f",
   "metadata": {},
   "source": [
    "`genderinfo.csv` has information about percentage of companies' global workforces that were female in 2020. The data were collected from below websites.\n",
    "* [Amazon](https://www.aboutamazon.com/news/workplace/our-workforce-data)\n",
    "* [Apple](https://9to5mac.com/2021/03/21/apple-shares-2020-data-divers/)\n",
    "* [Facebook](https://diversity.fb.com/read-report/)\n",
    "* [Google](https://diversity.google/annual-report/representation/)\n",
    "* [Microsoft](https://blogs.microsoft.com/blog/2020/10/21/microsofts-2020-diversity-inclusion-report-a-commitment-to-accelerate-progress-amidst-global-change/)\n",
    "* [Netflix](https://about.netflix.com/en/news/netflix-inclusion-report-2021)"
   ]
  },
  {
   "cell_type": "code",
   "execution_count": 306,
   "id": "f178a4d2",
   "metadata": {
    "scrolled": true
   },
   "outputs": [
    {
     "data": {
      "text/html": [
       "<div>\n",
       "<style scoped>\n",
       "    .dataframe tbody tr th:only-of-type {\n",
       "        vertical-align: middle;\n",
       "    }\n",
       "\n",
       "    .dataframe tbody tr th {\n",
       "        vertical-align: top;\n",
       "    }\n",
       "\n",
       "    .dataframe thead th {\n",
       "        text-align: right;\n",
       "    }\n",
       "</style>\n",
       "<table border=\"1\" class=\"dataframe\">\n",
       "  <thead>\n",
       "    <tr style=\"text-align: right;\">\n",
       "      <th></th>\n",
       "      <th>company</th>\n",
       "      <th>% female</th>\n",
       "    </tr>\n",
       "  </thead>\n",
       "  <tbody>\n",
       "    <tr>\n",
       "      <th>0</th>\n",
       "      <td>amazon</td>\n",
       "      <td>44.6</td>\n",
       "    </tr>\n",
       "    <tr>\n",
       "      <th>1</th>\n",
       "      <td>apple</td>\n",
       "      <td>34.0</td>\n",
       "    </tr>\n",
       "    <tr>\n",
       "      <th>2</th>\n",
       "      <td>facebook</td>\n",
       "      <td>37.0</td>\n",
       "    </tr>\n",
       "    <tr>\n",
       "      <th>3</th>\n",
       "      <td>google</td>\n",
       "      <td>32.0</td>\n",
       "    </tr>\n",
       "    <tr>\n",
       "      <th>4</th>\n",
       "      <td>microsoft</td>\n",
       "      <td>28.6</td>\n",
       "    </tr>\n",
       "    <tr>\n",
       "      <th>5</th>\n",
       "      <td>netflix</td>\n",
       "      <td>47.1</td>\n",
       "    </tr>\n",
       "  </tbody>\n",
       "</table>\n",
       "</div>"
      ],
      "text/plain": [
       "     company  % female\n",
       "0     amazon      44.6\n",
       "1      apple      34.0\n",
       "2   facebook      37.0\n",
       "3     google      32.0\n",
       "4  microsoft      28.6\n",
       "5    netflix      47.1"
      ]
     },
     "execution_count": 306,
     "metadata": {},
     "output_type": "execute_result"
    }
   ],
   "source": [
    "# Read genderinfo.csv\n",
    "genderdf = pd.read_csv('genderinfo.csv', sep = ',')\n",
    "genderdf"
   ]
  },
  {
   "cell_type": "markdown",
   "id": "786f558a",
   "metadata": {},
   "source": [
    "## 3.4 <a name=\"3.4\"></a>Merging / Concatenating of Dataframes"
   ]
  },
  {
   "cell_type": "markdown",
   "id": "b3c23359",
   "metadata": {},
   "source": [
    "### Concatenate companydata, amazondata, and netflixdata"
   ]
  },
  {
   "cell_type": "code",
   "execution_count": 307,
   "id": "416d199c",
   "metadata": {
    "scrolled": false
   },
   "outputs": [],
   "source": [
    "# Concatenate companydata, amazondata, and netflixdata\n",
    "companydata = pd.concat([companydata, amazondata, netflixdata])"
   ]
  },
  {
   "cell_type": "code",
   "execution_count": 308,
   "id": "a5895ff1",
   "metadata": {},
   "outputs": [
    {
     "data": {
      "text/html": [
       "<div>\n",
       "<style scoped>\n",
       "    .dataframe tbody tr th:only-of-type {\n",
       "        vertical-align: middle;\n",
       "    }\n",
       "\n",
       "    .dataframe tbody tr th {\n",
       "        vertical-align: top;\n",
       "    }\n",
       "\n",
       "    .dataframe thead th {\n",
       "        text-align: right;\n",
       "    }\n",
       "</style>\n",
       "<table border=\"1\" class=\"dataframe\">\n",
       "  <thead>\n",
       "    <tr style=\"text-align: right;\">\n",
       "      <th></th>\n",
       "      <th>company</th>\n",
       "      <th>revenue($B)</th>\n",
       "      <th>employees</th>\n",
       "    </tr>\n",
       "  </thead>\n",
       "  <tbody>\n",
       "    <tr>\n",
       "      <th>0</th>\n",
       "      <td>apple</td>\n",
       "      <td>274.515</td>\n",
       "      <td>147000</td>\n",
       "    </tr>\n",
       "    <tr>\n",
       "      <th>1</th>\n",
       "      <td>google</td>\n",
       "      <td>182.527</td>\n",
       "      <td>135301</td>\n",
       "    </tr>\n",
       "    <tr>\n",
       "      <th>2</th>\n",
       "      <td>microsoft</td>\n",
       "      <td>143.015</td>\n",
       "      <td>163000</td>\n",
       "    </tr>\n",
       "    <tr>\n",
       "      <th>3</th>\n",
       "      <td>facebook</td>\n",
       "      <td>85.965</td>\n",
       "      <td>58604</td>\n",
       "    </tr>\n",
       "    <tr>\n",
       "      <th>4</th>\n",
       "      <td>amazon</td>\n",
       "      <td>469.822</td>\n",
       "      <td>1622000</td>\n",
       "    </tr>\n",
       "    <tr>\n",
       "      <th>5</th>\n",
       "      <td>netflix</td>\n",
       "      <td>29.7</td>\n",
       "      <td>12135</td>\n",
       "    </tr>\n",
       "  </tbody>\n",
       "</table>\n",
       "</div>"
      ],
      "text/plain": [
       "     company revenue($B) employees\n",
       "0      apple     274.515    147000\n",
       "1     google     182.527    135301\n",
       "2  microsoft     143.015    163000\n",
       "3   facebook      85.965     58604\n",
       "4     amazon     469.822   1622000\n",
       "5    netflix        29.7     12135"
      ]
     },
     "execution_count": 308,
     "metadata": {},
     "output_type": "execute_result"
    }
   ],
   "source": [
    "# Reset index\n",
    "companydata.reset_index(drop = True)"
   ]
  },
  {
   "cell_type": "code",
   "execution_count": 309,
   "id": "99537f71",
   "metadata": {},
   "outputs": [],
   "source": [
    "# Convert revenue($B) and employees to numerical format\n",
    "companydata[[\"revenue($B)\", \"employees\"]] = companydata[[\"revenue($B)\", \"employees\"]].apply(pd.to_numeric, errors = 'raise', axis = 1)"
   ]
  },
  {
   "cell_type": "code",
   "execution_count": 310,
   "id": "02f71cc1",
   "metadata": {},
   "outputs": [
    {
     "data": {
      "text/html": [
       "<div>\n",
       "<style scoped>\n",
       "    .dataframe tbody tr th:only-of-type {\n",
       "        vertical-align: middle;\n",
       "    }\n",
       "\n",
       "    .dataframe tbody tr th {\n",
       "        vertical-align: top;\n",
       "    }\n",
       "\n",
       "    .dataframe thead th {\n",
       "        text-align: right;\n",
       "    }\n",
       "</style>\n",
       "<table border=\"1\" class=\"dataframe\">\n",
       "  <thead>\n",
       "    <tr style=\"text-align: right;\">\n",
       "      <th></th>\n",
       "      <th>company</th>\n",
       "      <th>revenue($B)</th>\n",
       "      <th>employees</th>\n",
       "    </tr>\n",
       "  </thead>\n",
       "  <tbody>\n",
       "    <tr>\n",
       "      <th>0</th>\n",
       "      <td>apple</td>\n",
       "      <td>274.515</td>\n",
       "      <td>147000.0</td>\n",
       "    </tr>\n",
       "    <tr>\n",
       "      <th>2</th>\n",
       "      <td>google</td>\n",
       "      <td>182.527</td>\n",
       "      <td>135301.0</td>\n",
       "    </tr>\n",
       "    <tr>\n",
       "      <th>4</th>\n",
       "      <td>microsoft</td>\n",
       "      <td>143.015</td>\n",
       "      <td>163000.0</td>\n",
       "    </tr>\n",
       "    <tr>\n",
       "      <th>7</th>\n",
       "      <td>facebook</td>\n",
       "      <td>85.965</td>\n",
       "      <td>58604.0</td>\n",
       "    </tr>\n",
       "    <tr>\n",
       "      <th>1</th>\n",
       "      <td>amazon</td>\n",
       "      <td>469.822</td>\n",
       "      <td>1622000.0</td>\n",
       "    </tr>\n",
       "    <tr>\n",
       "      <th>1</th>\n",
       "      <td>netflix</td>\n",
       "      <td>29.700</td>\n",
       "      <td>12135.0</td>\n",
       "    </tr>\n",
       "  </tbody>\n",
       "</table>\n",
       "</div>"
      ],
      "text/plain": [
       "     company  revenue($B)  employees\n",
       "0      apple      274.515   147000.0\n",
       "2     google      182.527   135301.0\n",
       "4  microsoft      143.015   163000.0\n",
       "7   facebook       85.965    58604.0\n",
       "1     amazon      469.822  1622000.0\n",
       "1    netflix       29.700    12135.0"
      ]
     },
     "execution_count": 310,
     "metadata": {},
     "output_type": "execute_result"
    }
   ],
   "source": [
    "companydata"
   ]
  },
  {
   "cell_type": "markdown",
   "id": "5ead8f8e",
   "metadata": {},
   "source": [
    "### Merge df, companydata, and genderdf dataframes"
   ]
  },
  {
   "cell_type": "code",
   "execution_count": 311,
   "id": "45a727ec",
   "metadata": {
    "scrolled": true
   },
   "outputs": [],
   "source": [
    "# Merge df and companydata dataframes\n",
    "df = pd.merge(df, companydata, how = 'left', left_on = 'company', right_on = 'company')"
   ]
  },
  {
   "cell_type": "code",
   "execution_count": 312,
   "id": "c5391faa",
   "metadata": {},
   "outputs": [],
   "source": [
    "# Merge df and genderdf dataframes\n",
    "df = pd.merge(df, genderdf, how = 'left', left_on = 'company', right_on = 'company')"
   ]
  },
  {
   "cell_type": "code",
   "execution_count": 313,
   "id": "aefc6477",
   "metadata": {},
   "outputs": [
    {
     "data": {
      "text/html": [
       "<div>\n",
       "<style scoped>\n",
       "    .dataframe tbody tr th:only-of-type {\n",
       "        vertical-align: middle;\n",
       "    }\n",
       "\n",
       "    .dataframe tbody tr th {\n",
       "        vertical-align: top;\n",
       "    }\n",
       "\n",
       "    .dataframe thead th {\n",
       "        text-align: right;\n",
       "    }\n",
       "</style>\n",
       "<table border=\"1\" class=\"dataframe\">\n",
       "  <thead>\n",
       "    <tr style=\"text-align: right;\">\n",
       "      <th></th>\n",
       "      <th>company</th>\n",
       "      <th>location</th>\n",
       "      <th>dates</th>\n",
       "      <th>job-title</th>\n",
       "      <th>summary</th>\n",
       "      <th>pros</th>\n",
       "      <th>cons</th>\n",
       "      <th>advice-to-mgmt</th>\n",
       "      <th>overall-ratings</th>\n",
       "      <th>work-balance-stars</th>\n",
       "      <th>culture-values-stars</th>\n",
       "      <th>carrer-opportunities-stars</th>\n",
       "      <th>comp-benefit-stars</th>\n",
       "      <th>senior-mangemnet-stars</th>\n",
       "      <th>helpful-count</th>\n",
       "      <th>revenue($B)</th>\n",
       "      <th>employees</th>\n",
       "      <th>% female</th>\n",
       "    </tr>\n",
       "  </thead>\n",
       "  <tbody>\n",
       "    <tr>\n",
       "      <th>0</th>\n",
       "      <td>google</td>\n",
       "      <td>NaN</td>\n",
       "      <td>2018-12-11</td>\n",
       "      <td>Current Employee - Anonymous Employee</td>\n",
       "      <td>Best Company to work for</td>\n",
       "      <td>People are smart and friendly</td>\n",
       "      <td>Bureaucracy is slowing things down</td>\n",
       "      <td>NaN</td>\n",
       "      <td>5</td>\n",
       "      <td>4.0</td>\n",
       "      <td>5.0</td>\n",
       "      <td>5.0</td>\n",
       "      <td>4.0</td>\n",
       "      <td>5.0</td>\n",
       "      <td>0</td>\n",
       "      <td>182.527</td>\n",
       "      <td>135301.0</td>\n",
       "      <td>32.0</td>\n",
       "    </tr>\n",
       "    <tr>\n",
       "      <th>1</th>\n",
       "      <td>google</td>\n",
       "      <td>Mountain View, CA</td>\n",
       "      <td>2013-06-21</td>\n",
       "      <td>Former Employee - Program Manager</td>\n",
       "      <td>Moving at the speed of light, burn out is inev...</td>\n",
       "      <td>1) Food, food, food. 15+ cafes on main campus ...</td>\n",
       "      <td>1) Work/life balance. What balance? All those ...</td>\n",
       "      <td>1) Don't dismiss emotional intelligence and ad...</td>\n",
       "      <td>4</td>\n",
       "      <td>2.0</td>\n",
       "      <td>3.0</td>\n",
       "      <td>3.0</td>\n",
       "      <td>5.0</td>\n",
       "      <td>3.0</td>\n",
       "      <td>2094</td>\n",
       "      <td>182.527</td>\n",
       "      <td>135301.0</td>\n",
       "      <td>32.0</td>\n",
       "    </tr>\n",
       "    <tr>\n",
       "      <th>2</th>\n",
       "      <td>google</td>\n",
       "      <td>New York, NY</td>\n",
       "      <td>2014-05-10</td>\n",
       "      <td>Current Employee - Software Engineer III</td>\n",
       "      <td>Great balance between big-company security and...</td>\n",
       "      <td>* If you're a software engineer, you're among ...</td>\n",
       "      <td>* It *is* becoming larger, and with it comes g...</td>\n",
       "      <td>Keep the focus on the user. Everything else wi...</td>\n",
       "      <td>5</td>\n",
       "      <td>5.0</td>\n",
       "      <td>4.0</td>\n",
       "      <td>5.0</td>\n",
       "      <td>5.0</td>\n",
       "      <td>4.0</td>\n",
       "      <td>949</td>\n",
       "      <td>182.527</td>\n",
       "      <td>135301.0</td>\n",
       "      <td>32.0</td>\n",
       "    </tr>\n",
       "    <tr>\n",
       "      <th>3</th>\n",
       "      <td>google</td>\n",
       "      <td>Mountain View, CA</td>\n",
       "      <td>2015-02-08</td>\n",
       "      <td>Current Employee - Anonymous Employee</td>\n",
       "      <td>The best place I've worked and also the most d...</td>\n",
       "      <td>You can't find a more well-regarded company th...</td>\n",
       "      <td>I live in SF so the commute can take between 1...</td>\n",
       "      <td>Keep on NOT micromanaging - that is a huge ben...</td>\n",
       "      <td>5</td>\n",
       "      <td>2.0</td>\n",
       "      <td>5.0</td>\n",
       "      <td>5.0</td>\n",
       "      <td>4.0</td>\n",
       "      <td>5.0</td>\n",
       "      <td>498</td>\n",
       "      <td>182.527</td>\n",
       "      <td>135301.0</td>\n",
       "      <td>32.0</td>\n",
       "    </tr>\n",
       "    <tr>\n",
       "      <th>4</th>\n",
       "      <td>google</td>\n",
       "      <td>Los Angeles, CA</td>\n",
       "      <td>2018-07-19</td>\n",
       "      <td>Former Employee - Software Engineer</td>\n",
       "      <td>Unique, one of a kind dream job</td>\n",
       "      <td>Google is a world of its own. At every other c...</td>\n",
       "      <td>If you don't work in MTV (HQ), you will be giv...</td>\n",
       "      <td>Promote managers into management for their man...</td>\n",
       "      <td>5</td>\n",
       "      <td>5.0</td>\n",
       "      <td>5.0</td>\n",
       "      <td>5.0</td>\n",
       "      <td>5.0</td>\n",
       "      <td>5.0</td>\n",
       "      <td>49</td>\n",
       "      <td>182.527</td>\n",
       "      <td>135301.0</td>\n",
       "      <td>32.0</td>\n",
       "    </tr>\n",
       "  </tbody>\n",
       "</table>\n",
       "</div>"
      ],
      "text/plain": [
       "  company           location      dates  \\\n",
       "0  google                NaN 2018-12-11   \n",
       "1  google  Mountain View, CA 2013-06-21   \n",
       "2  google       New York, NY 2014-05-10   \n",
       "3  google  Mountain View, CA 2015-02-08   \n",
       "4  google    Los Angeles, CA 2018-07-19   \n",
       "\n",
       "                                  job-title  \\\n",
       "0     Current Employee - Anonymous Employee   \n",
       "1         Former Employee - Program Manager   \n",
       "2  Current Employee - Software Engineer III   \n",
       "3     Current Employee - Anonymous Employee   \n",
       "4       Former Employee - Software Engineer   \n",
       "\n",
       "                                             summary  \\\n",
       "0                           Best Company to work for   \n",
       "1  Moving at the speed of light, burn out is inev...   \n",
       "2  Great balance between big-company security and...   \n",
       "3  The best place I've worked and also the most d...   \n",
       "4                    Unique, one of a kind dream job   \n",
       "\n",
       "                                                pros  \\\n",
       "0                      People are smart and friendly   \n",
       "1  1) Food, food, food. 15+ cafes on main campus ...   \n",
       "2  * If you're a software engineer, you're among ...   \n",
       "3  You can't find a more well-regarded company th...   \n",
       "4  Google is a world of its own. At every other c...   \n",
       "\n",
       "                                                cons  \\\n",
       "0                 Bureaucracy is slowing things down   \n",
       "1  1) Work/life balance. What balance? All those ...   \n",
       "2  * It *is* becoming larger, and with it comes g...   \n",
       "3  I live in SF so the commute can take between 1...   \n",
       "4  If you don't work in MTV (HQ), you will be giv...   \n",
       "\n",
       "                                      advice-to-mgmt  overall-ratings  \\\n",
       "0                                                NaN                5   \n",
       "1  1) Don't dismiss emotional intelligence and ad...                4   \n",
       "2  Keep the focus on the user. Everything else wi...                5   \n",
       "3  Keep on NOT micromanaging - that is a huge ben...                5   \n",
       "4  Promote managers into management for their man...                5   \n",
       "\n",
       "   work-balance-stars  culture-values-stars  carrer-opportunities-stars  \\\n",
       "0                 4.0                   5.0                         5.0   \n",
       "1                 2.0                   3.0                         3.0   \n",
       "2                 5.0                   4.0                         5.0   \n",
       "3                 2.0                   5.0                         5.0   \n",
       "4                 5.0                   5.0                         5.0   \n",
       "\n",
       "   comp-benefit-stars  senior-mangemnet-stars  helpful-count  revenue($B)  \\\n",
       "0                 4.0                     5.0              0      182.527   \n",
       "1                 5.0                     3.0           2094      182.527   \n",
       "2                 5.0                     4.0            949      182.527   \n",
       "3                 4.0                     5.0            498      182.527   \n",
       "4                 5.0                     5.0             49      182.527   \n",
       "\n",
       "   employees  % female  \n",
       "0   135301.0      32.0  \n",
       "1   135301.0      32.0  \n",
       "2   135301.0      32.0  \n",
       "3   135301.0      32.0  \n",
       "4   135301.0      32.0  "
      ]
     },
     "execution_count": 313,
     "metadata": {},
     "output_type": "execute_result"
    }
   ],
   "source": [
    "df.head()"
   ]
  },
  {
   "cell_type": "markdown",
   "id": "bf9c44d1",
   "metadata": {},
   "source": [
    "### Analysis from newly added information "
   ]
  },
  {
   "cell_type": "code",
   "execution_count": 314,
   "id": "cdd2aca7",
   "metadata": {
    "scrolled": true
   },
   "outputs": [
    {
     "data": {
      "text/html": [
       "<div>\n",
       "<style scoped>\n",
       "    .dataframe tbody tr th:only-of-type {\n",
       "        vertical-align: middle;\n",
       "    }\n",
       "\n",
       "    .dataframe tbody tr th {\n",
       "        vertical-align: top;\n",
       "    }\n",
       "\n",
       "    .dataframe thead th {\n",
       "        text-align: right;\n",
       "    }\n",
       "</style>\n",
       "<table border=\"1\" class=\"dataframe\">\n",
       "  <thead>\n",
       "    <tr style=\"text-align: right;\">\n",
       "      <th></th>\n",
       "      <th>revenue($B)</th>\n",
       "    </tr>\n",
       "    <tr>\n",
       "      <th>company</th>\n",
       "      <th></th>\n",
       "    </tr>\n",
       "  </thead>\n",
       "  <tbody>\n",
       "    <tr>\n",
       "      <th>amazon</th>\n",
       "      <td>469.822</td>\n",
       "    </tr>\n",
       "  </tbody>\n",
       "</table>\n",
       "</div>"
      ],
      "text/plain": [
       "         revenue($B)\n",
       "company             \n",
       "amazon       469.822"
      ]
     },
     "execution_count": 314,
     "metadata": {},
     "output_type": "execute_result"
    }
   ],
   "source": [
    "# Company with highest revenue in 2021\n",
    "df.groupby(['company'])[['revenue($B)']].mean().sort_values(by='revenue($B)', ascending=False)[0:1]"
   ]
  },
  {
   "cell_type": "code",
   "execution_count": 315,
   "id": "5e7b8c87",
   "metadata": {},
   "outputs": [
    {
     "data": {
      "text/html": [
       "<div>\n",
       "<style scoped>\n",
       "    .dataframe tbody tr th:only-of-type {\n",
       "        vertical-align: middle;\n",
       "    }\n",
       "\n",
       "    .dataframe tbody tr th {\n",
       "        vertical-align: top;\n",
       "    }\n",
       "\n",
       "    .dataframe thead th {\n",
       "        text-align: right;\n",
       "    }\n",
       "</style>\n",
       "<table border=\"1\" class=\"dataframe\">\n",
       "  <thead>\n",
       "    <tr style=\"text-align: right;\">\n",
       "      <th></th>\n",
       "      <th>employees</th>\n",
       "    </tr>\n",
       "    <tr>\n",
       "      <th>company</th>\n",
       "      <th></th>\n",
       "    </tr>\n",
       "  </thead>\n",
       "  <tbody>\n",
       "    <tr>\n",
       "      <th>amazon</th>\n",
       "      <td>1622000.0</td>\n",
       "    </tr>\n",
       "  </tbody>\n",
       "</table>\n",
       "</div>"
      ],
      "text/plain": [
       "         employees\n",
       "company           \n",
       "amazon   1622000.0"
      ]
     },
     "execution_count": 315,
     "metadata": {},
     "output_type": "execute_result"
    }
   ],
   "source": [
    "# Company with highest number of employees in 2021\n",
    "df.groupby(['company'])[['employees']].mean().sort_values(by='employees', ascending=False)[0:1]"
   ]
  },
  {
   "cell_type": "code",
   "execution_count": 316,
   "id": "77bde09b",
   "metadata": {},
   "outputs": [
    {
     "data": {
      "text/html": [
       "<div>\n",
       "<style scoped>\n",
       "    .dataframe tbody tr th:only-of-type {\n",
       "        vertical-align: middle;\n",
       "    }\n",
       "\n",
       "    .dataframe tbody tr th {\n",
       "        vertical-align: top;\n",
       "    }\n",
       "\n",
       "    .dataframe thead th {\n",
       "        text-align: right;\n",
       "    }\n",
       "</style>\n",
       "<table border=\"1\" class=\"dataframe\">\n",
       "  <thead>\n",
       "    <tr style=\"text-align: right;\">\n",
       "      <th></th>\n",
       "      <th>% female</th>\n",
       "    </tr>\n",
       "    <tr>\n",
       "      <th>company</th>\n",
       "      <th></th>\n",
       "    </tr>\n",
       "  </thead>\n",
       "  <tbody>\n",
       "    <tr>\n",
       "      <th>netflix</th>\n",
       "      <td>47.1</td>\n",
       "    </tr>\n",
       "  </tbody>\n",
       "</table>\n",
       "</div>"
      ],
      "text/plain": [
       "         % female\n",
       "company          \n",
       "netflix      47.1"
      ]
     },
     "execution_count": 316,
     "metadata": {},
     "output_type": "execute_result"
    }
   ],
   "source": [
    "# Company with highest percentage of female employees in 2020\n",
    "df.groupby(['company'])[['% female']].mean().sort_values(by='% female', ascending=False)[0:1]"
   ]
  },
  {
   "cell_type": "markdown",
   "id": "8e036d54",
   "metadata": {},
   "source": [
    "# 4. <a name=\"4\"></a>Visualisation"
   ]
  },
  {
   "cell_type": "markdown",
   "id": "3f697a40",
   "metadata": {},
   "source": [
    "### Overall ratings trend overtime for each companies"
   ]
  },
  {
   "cell_type": "code",
   "execution_count": 317,
   "id": "57370553",
   "metadata": {},
   "outputs": [
    {
     "data": {
      "text/plain": [
       "(13879.0, 18261.0)"
      ]
     },
     "execution_count": 317,
     "metadata": {},
     "output_type": "execute_result"
    },
    {
     "data": {
      "image/png": "[encoded data removed]",
      "text/plain": [
       "<Figure size 432x288 with 1 Axes>"
      ]
     },
     "metadata": {},
     "output_type": "display_data"
    }
   ],
   "source": [
    "# Trend overtime (review score) for Amazon\n",
    "sns.set_theme(style=\"whitegrid\")\n",
    "amazonfig = sns.lineplot(data=amazondf, x=\"dates\", y=\"overall-ratings\").set(title='Amazon Review Score')\n",
    "plt.ylim(0, 5.5)\n",
    "plt.xlim(np.datetime64('2008-01-01'), np.datetime64('2019-12-31'))"
   ]
  },
  {
   "cell_type": "code",
   "execution_count": 318,
   "id": "76218bce",
   "metadata": {},
   "outputs": [
    {
     "data": {
      "text/plain": [
       "(13879.0, 18261.0)"
      ]
     },
     "execution_count": 318,
     "metadata": {},
     "output_type": "execute_result"
    },
    {
     "data": {
      "image/png": "[encoded data removed]",
      "text/plain": [
       "<Figure size 432x288 with 1 Axes>"
      ]
     },
     "metadata": {},
     "output_type": "display_data"
    }
   ],
   "source": [
    "# Trend overtime (review score) for Apple\n",
    "applefig = sns.lineplot(data=appledf, x=\"dates\", y=\"overall-ratings\").set(title='Apple Review Score')\n",
    "plt.ylim(0, 5.5)\n",
    "plt.xlim(np.datetime64('2008-01-01'), np.datetime64('2019-12-31'))"
   ]
  },
  {
   "cell_type": "code",
   "execution_count": 319,
   "id": "c9747f6c",
   "metadata": {},
   "outputs": [
    {
     "data": {
      "text/plain": [
       "(13879.0, 18261.0)"
      ]
     },
     "execution_count": 319,
     "metadata": {},
     "output_type": "execute_result"
    },
    {
     "data": {
      "image/png": "[encoded data removed]",
      "text/plain": [
       "<Figure size 432x288 with 1 Axes>"
      ]
     },
     "metadata": {},
     "output_type": "display_data"
    }
   ],
   "source": [
    "# Trend overtime (review score) for Facebook\n",
    "facebookfig = sns.lineplot(data=facebookdf, x=\"dates\", y=\"overall-ratings\").set(title='Facebook Review Score')\n",
    "plt.ylim(0, 5.5)\n",
    "plt.xlim(np.datetime64('2008-01-01'), np.datetime64('2019-12-31'))"
   ]
  },
  {
   "cell_type": "code",
   "execution_count": 320,
   "id": "62b9ed8a",
   "metadata": {},
   "outputs": [
    {
     "data": {
      "text/plain": [
       "(13879.0, 18261.0)"
      ]
     },
     "execution_count": 320,
     "metadata": {},
     "output_type": "execute_result"
    },
    {
     "data": {
      "image/png": "[encoded data removed]",
      "text/plain": [
       "<Figure size 432x288 with 1 Axes>"
      ]
     },
     "metadata": {},
     "output_type": "display_data"
    }
   ],
   "source": [
    "# Trend overtime (review score) for Google\n",
    "googlefig = sns.lineplot(data=googledf, x=\"dates\", y=\"overall-ratings\").set(title='Google Review Score')\n",
    "plt.ylim(0, 5.5)\n",
    "plt.xlim(np.datetime64('2008-01-01'), np.datetime64('2019-12-31'))"
   ]
  },
  {
   "cell_type": "code",
   "execution_count": 321,
   "id": "a4e7999f",
   "metadata": {},
   "outputs": [
    {
     "data": {
      "text/plain": [
       "(13879.0, 18261.0)"
      ]
     },
     "execution_count": 321,
     "metadata": {},
     "output_type": "execute_result"
    },
    {
     "data": {
      "image/png": "[encoded data removed]",
      "text/plain": [
       "<Figure size 432x288 with 1 Axes>"
      ]
     },
     "metadata": {},
     "output_type": "display_data"
    }
   ],
   "source": [
    "# Trend overtime (review score) for Microsoft\n",
    "microsoftfig = sns.lineplot(data=microsoftdf, x=\"dates\", y=\"overall-ratings\").set(title='Microsoft Review Score')\n",
    "plt.ylim(0, 5.5)\n",
    "plt.xlim(np.datetime64('2008-01-01'), np.datetime64('2019-12-31'))"
   ]
  },
  {
   "cell_type": "code",
   "execution_count": 322,
   "id": "16db4dcd",
   "metadata": {
    "scrolled": true
   },
   "outputs": [
    {
     "data": {
      "text/plain": [
       "(13879.0, 18261.0)"
      ]
     },
     "execution_count": 322,
     "metadata": {},
     "output_type": "execute_result"
    },
    {
     "data": {
      "image/png": "[encoded data removed]",
      "text/plain": [
       "<Figure size 432x288 with 1 Axes>"
      ]
     },
     "metadata": {},
     "output_type": "display_data"
    }
   ],
   "source": [
    "# Trend overtime (review score) for Netflix\n",
    "netflixfig = sns.lineplot(data=netflixdf, x=\"dates\", y=\"overall-ratings\").set(title='Netflix Review Score')\n",
    "plt.ylim(0, 5.5)\n",
    "plt.xlim(np.datetime64('2008-01-01'), np.datetime64('2019-12-31'))"
   ]
  },
  {
   "cell_type": "markdown",
   "id": "1ed0a098",
   "metadata": {},
   "source": [
    "### Comparison of companies in terms of star ratings"
   ]
  },
  {
   "cell_type": "code",
   "execution_count": 323,
   "id": "b05057fb",
   "metadata": {},
   "outputs": [],
   "source": [
    "# Make 'company' index to a column\n",
    "meanstardf = meanstardf.reset_index(level='company')"
   ]
  },
  {
   "cell_type": "code",
   "execution_count": 324,
   "id": "85b479d4",
   "metadata": {},
   "outputs": [],
   "source": [
    "# Rename columns\n",
    "meanstardf.rename(columns = {'work-balance-stars':'work life balance', 'culture-values-stars':'culture values', 'carrer-opportunities-stars': 'career opportunities', 'comp-benefit-stars':'company benefits', 'senior-mangemnet-stars': 'senior management'}, inplace = True)"
   ]
  },
  {
   "cell_type": "code",
   "execution_count": 325,
   "id": "2ee65e29",
   "metadata": {},
   "outputs": [],
   "source": [
    "# Convert to long form\n",
    "meanstardf = meanstardf.melt('company', var_name='stars', value_name='values')"
   ]
  },
  {
   "cell_type": "code",
   "execution_count": 326,
   "id": "72c66b16",
   "metadata": {},
   "outputs": [
    {
     "data": {
      "image/png": "[encoded data removed]",
      "text/plain": [
       "<Figure size 444.475x360 with 1 Axes>"
      ]
     },
     "metadata": {},
     "output_type": "display_data"
    }
   ],
   "source": [
    "# Plot values\n",
    "starfig = sns.catplot(y = 'values', x = 'stars', data = meanstardf, kind = 'bar', hue = 'company', palette=\"pastel\").set(title='Star Rating Comparison')\n",
    "starfig.ax.tick_params(axis='x', rotation=60)"
   ]
  }
 ],
 "metadata": {
  "kernelspec": {
   "display_name": "Python 3",
   "language": "python",
   "name": "python3"
  },
  "language_info": {
   "codemirror_mode": {
    "name": "ipython",
    "version": 3
   },
   "file_extension": ".py",
   "mimetype": "text/x-python",
   "name": "python",
   "nbconvert_exporter": "python",
   "pygments_lexer": "ipython3",
   "version": "3.8.8"
  }
 },
 "nbformat": 4,
 "nbformat_minor": 5
}

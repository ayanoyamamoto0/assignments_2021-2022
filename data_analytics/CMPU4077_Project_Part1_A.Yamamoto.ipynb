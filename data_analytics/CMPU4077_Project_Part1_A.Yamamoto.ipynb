{
 "cells": [
  {
   "cell_type": "markdown",
   "id": "cbbab885",
   "metadata": {},
   "source": [
    "# Survival Prediction After Thoracic Surgeries"
   ]
  },
  {
   "cell_type": "markdown",
   "id": "38bc68cb",
   "metadata": {},
   "source": [
    "[Link to Dataset](https://archive.ics.uci.edu/ml/datasets/Thoracic+Surgery+Data)  \n",
    "[Link to Relevant Research Paper](https://www.sciencedirect.com/science/article/abs/pii/S1568494613002627)"
   ]
  },
  {
   "cell_type": "markdown",
   "id": "8265f111",
   "metadata": {},
   "source": [
    "## Table of Contents  \n",
    "1. [The Problem](#S1)<br>\n",
    "    1.1 [Problem Definition](#1.1)<br>\n",
    "    1.2 [Proposed Solutions](#1.2)<br>\n",
    "    1.3 [Capacities Required](#1.3)<br>\n",
    "2. [The Data Exploration](#S2)<br>\n",
    "    2.1 [Continuous Features Data Quality Report](#2.1)<br>\n",
    "    2.2 [Categorical Features Data Quality Report](#2.2)<br>\n",
    "    2.3 [Visualisations](#2.3)<br>\n",
    "    2.4 [Data Quality Plan](#2.4)<br>\n",
    "    2.5 [Handling Strategies for the Data Quality Issues](#2.5)<br>\n",
    "3. [The Evaluation](#S3)<br>\n",
    "    3.1 [Types of Experiments](#3.1)<br>\n",
    "    3.2 [Relevant Metrics](#3.2)<br>"
   ]
  },
  {
   "cell_type": "markdown",
   "id": "335a55ba",
   "metadata": {},
   "source": [
    "## <a name=\"S1\"></a>Section 1: The Problem "
   ]
  },
  {
   "cell_type": "markdown",
   "id": "f3b67e5f",
   "metadata": {},
   "source": [
    "### <a name=\"1.1\"></a>1.1 Problem Definition"
   ]
  },
  {
   "cell_type": "markdown",
   "id": "db837e0c",
   "metadata": {},
   "source": [
    "Lung cancer is a malignant lung tumor characterized by uncontrolled cell growth in tissues of the lung. It is the most common cause of cancer death in Ireland, with 1,693 deaths in 2010[[1]](#C1). It also has one of the lowest five-year cancer survival rates in the UK[[2]](#C1). Researchers and healthcare providers working towards improving care and survival rates for lung cancer patients globally.  \n",
    "  \n",
    "Available treatments include surgery, chemotherapy, radiation therapy, immunotherapy, and targeted therapy, with each of them having their own benefits and risks. In case of surgery, it could be effective at removing a large volume of tumour accessible to the sergeant, but it comes of risks of complications, damage to nearby normal tissues, and the basic requirement for patient to be able to tolerate the surgery and anesthesia. The healthcare providers currently suggest treatment plans depending on the type of lung cancer, size, how advance it is, and the patient's overall health."
   ]
  },
  {
   "cell_type": "markdown",
   "id": "a67bd4fc",
   "metadata": {},
   "source": [
    "### <a name=\"1.2\"></a>1.2 Proposed Solutions"
   ]
  },
  {
   "cell_type": "markdown",
   "id": "e5a8bcbf",
   "metadata": {},
   "source": [
    "#### Prposal 1: Surgery Prediction\n",
    "A model could be built to predict the likelihood that a patient will survive for more than 1 year after the surgery has been performed. This model could be used to assign every surgery a 1 year survival likelihood, and those that are most likely to lead to death within 1 year could be flagged for the healthcare providers to pay closer attention during postoperative recovery and follow-up appointments. In this way the healthcare providers can get ahead of detereorations, or be informed to react to detereorations as quickly as possible, for those who are at higher risks of dying within a year of surgery.\n",
    "\n",
    "#### Proposal 2: Treatment Prediction\n",
    "A model could be built to predict the likelihood of patient survival after 1 year from surgery when creating treatment plans. This model could be run when patients are diagnosed with lung cancer to assign a 1 year survival likelihood if they had a surgery, and flag those with higher risks to healthcare providers when determining the best course of treatment. Using this model, the healthcare providers will have an extra information in decision making and comminicating to patients if surgeries are their best options and inform them of the risks."
   ]
  },
  {
   "cell_type": "markdown",
   "id": "11cb98db",
   "metadata": {},
   "source": [
    "### <a name=\"1.3\"></a>1.3 Capacities Required"
   ]
  },
  {
   "cell_type": "markdown",
   "id": "74c03702",
   "metadata": {},
   "source": [
    "#### Prposal 1: Surgery Prediction\n",
    "<em>Data Requirements:</em>  \n",
    "This solution would require that a large collection of historical thoracic surgery data marked as true or false for 1 year survival period exist. Similarly, the patients' age, smoking habit, details of diagnosis (ICD-10 codes, Zubrod scale, and clinical TNM), vital capacity (FVC and FEV1), conditions before surgery (pain, haemoptysis, dyspnoea, cough, and weakness), and details of any other medical conditions (type 2 diabetes, myocardial infarction, peripheral arterial diseases, and asthma) would need to be available.\n",
    "  \n",
    "<em>Capacity Requirements:</em>  \n",
    "This solution first assumes that there are healthcare providers in place with the expertese and equipments to measure the required data. The main requirements would be that a software could be put in place for healthcare providers to input the required data, and for the software to inform the healthcare providers of the 1 year survival likelihoods. \n",
    "  \n",
    "#### Proposal 2: Treatment Prediction\n",
    "<em>Data Requirements:</em>  \n",
    "Similar to Surgery Prediction, this solution would require that a large collection of historical thoracic surgery data marked as true or false for 1 year survival period exist with all relevant details.\n",
    "  \n",
    "<em>Capacity Requirements:</em>  \n",
    "This solution also assumes that we have a team of healthcare providers with the expertese and equipments to measure the required data. We would also require that a software could be put in place for healthcare providers to input the required data, and for the software to inform the healthcare providers of the 1 year survival likelihoods based on the input. A challenge here could be avoiding the nocebo effects on patients if they are informed of high risks of death within a year of surgery."
   ]
  },
  {
   "cell_type": "markdown",
   "id": "eb531430",
   "metadata": {},
   "source": [
    "## <a name=\"S2\"></a>Section 2: The Data Exploration"
   ]
  },
  {
   "cell_type": "markdown",
   "id": "b718bfcb",
   "metadata": {},
   "source": [
    "### Importing Libraries"
   ]
  },
  {
   "cell_type": "markdown",
   "id": "15d74ea6",
   "metadata": {},
   "source": [
    "We will first import the required libraries."
   ]
  },
  {
   "cell_type": "code",
   "execution_count": 35,
   "id": "f955d08f",
   "metadata": {},
   "outputs": [],
   "source": [
    "# Libraries for data manipulation\n",
    "import pandas as pd\n",
    "import numpy as np\n",
    "\n",
    "# Libraries for visualisation\n",
    "import matplotlib.pyplot as plt\n",
    "import seaborn as sns\n",
    "\n",
    "# Library for displaying images\n",
    "from IPython import display"
   ]
  },
  {
   "cell_type": "markdown",
   "id": "01c5ff97",
   "metadata": {},
   "source": [
    "### Loading the Data"
   ]
  },
  {
   "cell_type": "markdown",
   "id": "374cb730",
   "metadata": {},
   "source": [
    "We will then load the the data file `ThoraricSurgery.arff`. The data section has no headers, so we will create a list of headers and specify it when reading the data file.  \n",
    "  \n",
    "After that, we will perform the initial summary and visualisation of the first few lines of data.  "
   ]
  },
  {
   "cell_type": "code",
   "execution_count": 36,
   "id": "5620aa32",
   "metadata": {},
   "outputs": [],
   "source": [
    "# Headers for the data file\n",
    "headers = ['DGN', 'PRE4', 'PRE5', 'PRE6', 'PRE7', 'PRE8', 'PRE9', 'PRE10', 'PRE11', 'PRE14', 'PRE17', 'PRE19', 'PRE25', 'PRE30', 'PRE32', 'AGE', 'Risk1Yr']\n",
    "\n",
    "# Read the data part of ThoraricSurgery.arff\n",
    "df = pd.read_csv('ThoraricSurgery.arff', sep = ',', names = headers, skiprows=21)"
   ]
  },
  {
   "cell_type": "code",
   "execution_count": 37,
   "id": "52007604",
   "metadata": {
    "scrolled": false
   },
   "outputs": [
    {
     "name": "stdout",
     "output_type": "stream",
     "text": [
      "<class 'pandas.core.frame.DataFrame'>\n",
      "RangeIndex: 470 entries, 0 to 469\n",
      "Data columns (total 17 columns):\n",
      " #   Column   Non-Null Count  Dtype  \n",
      "---  ------   --------------  -----  \n",
      " 0   DGN      470 non-null    object \n",
      " 1   PRE4     470 non-null    float64\n",
      " 2   PRE5     470 non-null    float64\n",
      " 3   PRE6     470 non-null    object \n",
      " 4   PRE7     470 non-null    object \n",
      " 5   PRE8     470 non-null    object \n",
      " 6   PRE9     470 non-null    object \n",
      " 7   PRE10    470 non-null    object \n",
      " 8   PRE11    470 non-null    object \n",
      " 9   PRE14    470 non-null    object \n",
      " 10  PRE17    470 non-null    object \n",
      " 11  PRE19    470 non-null    object \n",
      " 12  PRE25    470 non-null    object \n",
      " 13  PRE30    470 non-null    object \n",
      " 14  PRE32    470 non-null    object \n",
      " 15  AGE      470 non-null    int64  \n",
      " 16  Risk1Yr  470 non-null    object \n",
      "dtypes: float64(2), int64(1), object(14)\n",
      "memory usage: 62.5+ KB\n"
     ]
    }
   ],
   "source": [
    "# Summary of the dataframe\n",
    "df.info()"
   ]
  },
  {
   "cell_type": "code",
   "execution_count": 38,
   "id": "7f3152b2",
   "metadata": {
    "scrolled": true
   },
   "outputs": [
    {
     "data": {
      "text/html": [
       "<div>\n",
       "<style scoped>\n",
       "    .dataframe tbody tr th:only-of-type {\n",
       "        vertical-align: middle;\n",
       "    }\n",
       "\n",
       "    .dataframe tbody tr th {\n",
       "        vertical-align: top;\n",
       "    }\n",
       "\n",
       "    .dataframe thead th {\n",
       "        text-align: right;\n",
       "    }\n",
       "</style>\n",
       "<table border=\"1\" class=\"dataframe\">\n",
       "  <thead>\n",
       "    <tr style=\"text-align: right;\">\n",
       "      <th></th>\n",
       "      <th>DGN</th>\n",
       "      <th>PRE4</th>\n",
       "      <th>PRE5</th>\n",
       "      <th>PRE6</th>\n",
       "      <th>PRE7</th>\n",
       "      <th>PRE8</th>\n",
       "      <th>PRE9</th>\n",
       "      <th>PRE10</th>\n",
       "      <th>PRE11</th>\n",
       "      <th>PRE14</th>\n",
       "      <th>PRE17</th>\n",
       "      <th>PRE19</th>\n",
       "      <th>PRE25</th>\n",
       "      <th>PRE30</th>\n",
       "      <th>PRE32</th>\n",
       "      <th>AGE</th>\n",
       "      <th>Risk1Yr</th>\n",
       "    </tr>\n",
       "  </thead>\n",
       "  <tbody>\n",
       "    <tr>\n",
       "      <th>0</th>\n",
       "      <td>DGN2</td>\n",
       "      <td>2.88</td>\n",
       "      <td>2.16</td>\n",
       "      <td>PRZ1</td>\n",
       "      <td>F</td>\n",
       "      <td>F</td>\n",
       "      <td>F</td>\n",
       "      <td>T</td>\n",
       "      <td>T</td>\n",
       "      <td>OC14</td>\n",
       "      <td>F</td>\n",
       "      <td>F</td>\n",
       "      <td>F</td>\n",
       "      <td>T</td>\n",
       "      <td>F</td>\n",
       "      <td>60</td>\n",
       "      <td>F</td>\n",
       "    </tr>\n",
       "    <tr>\n",
       "      <th>1</th>\n",
       "      <td>DGN3</td>\n",
       "      <td>3.40</td>\n",
       "      <td>1.88</td>\n",
       "      <td>PRZ0</td>\n",
       "      <td>F</td>\n",
       "      <td>F</td>\n",
       "      <td>F</td>\n",
       "      <td>F</td>\n",
       "      <td>F</td>\n",
       "      <td>OC12</td>\n",
       "      <td>F</td>\n",
       "      <td>F</td>\n",
       "      <td>F</td>\n",
       "      <td>T</td>\n",
       "      <td>F</td>\n",
       "      <td>51</td>\n",
       "      <td>F</td>\n",
       "    </tr>\n",
       "    <tr>\n",
       "      <th>2</th>\n",
       "      <td>DGN3</td>\n",
       "      <td>2.76</td>\n",
       "      <td>2.08</td>\n",
       "      <td>PRZ1</td>\n",
       "      <td>F</td>\n",
       "      <td>F</td>\n",
       "      <td>F</td>\n",
       "      <td>T</td>\n",
       "      <td>F</td>\n",
       "      <td>OC11</td>\n",
       "      <td>F</td>\n",
       "      <td>F</td>\n",
       "      <td>F</td>\n",
       "      <td>T</td>\n",
       "      <td>F</td>\n",
       "      <td>59</td>\n",
       "      <td>F</td>\n",
       "    </tr>\n",
       "    <tr>\n",
       "      <th>3</th>\n",
       "      <td>DGN3</td>\n",
       "      <td>3.68</td>\n",
       "      <td>3.04</td>\n",
       "      <td>PRZ0</td>\n",
       "      <td>F</td>\n",
       "      <td>F</td>\n",
       "      <td>F</td>\n",
       "      <td>F</td>\n",
       "      <td>F</td>\n",
       "      <td>OC11</td>\n",
       "      <td>F</td>\n",
       "      <td>F</td>\n",
       "      <td>F</td>\n",
       "      <td>F</td>\n",
       "      <td>F</td>\n",
       "      <td>54</td>\n",
       "      <td>F</td>\n",
       "    </tr>\n",
       "    <tr>\n",
       "      <th>4</th>\n",
       "      <td>DGN3</td>\n",
       "      <td>2.44</td>\n",
       "      <td>0.96</td>\n",
       "      <td>PRZ2</td>\n",
       "      <td>F</td>\n",
       "      <td>T</td>\n",
       "      <td>F</td>\n",
       "      <td>T</td>\n",
       "      <td>T</td>\n",
       "      <td>OC11</td>\n",
       "      <td>F</td>\n",
       "      <td>F</td>\n",
       "      <td>F</td>\n",
       "      <td>T</td>\n",
       "      <td>F</td>\n",
       "      <td>73</td>\n",
       "      <td>T</td>\n",
       "    </tr>\n",
       "  </tbody>\n",
       "</table>\n",
       "</div>"
      ],
      "text/plain": [
       "    DGN  PRE4  PRE5  PRE6 PRE7 PRE8 PRE9 PRE10 PRE11 PRE14 PRE17 PRE19 PRE25  \\\n",
       "0  DGN2  2.88  2.16  PRZ1    F    F    F     T     T  OC14     F     F     F   \n",
       "1  DGN3  3.40  1.88  PRZ0    F    F    F     F     F  OC12     F     F     F   \n",
       "2  DGN3  2.76  2.08  PRZ1    F    F    F     T     F  OC11     F     F     F   \n",
       "3  DGN3  3.68  3.04  PRZ0    F    F    F     F     F  OC11     F     F     F   \n",
       "4  DGN3  2.44  0.96  PRZ2    F    T    F     T     T  OC11     F     F     F   \n",
       "\n",
       "  PRE30 PRE32  AGE Risk1Yr  \n",
       "0     T     F   60       F  \n",
       "1     T     F   51       F  \n",
       "2     T     F   59       F  \n",
       "3     F     F   54       F  \n",
       "4     T     F   73       T  "
      ]
     },
     "execution_count": 38,
     "metadata": {},
     "output_type": "execute_result"
    }
   ],
   "source": [
    "# Inspect the first few lines of the dataset\n",
    "df.head()"
   ]
  },
  {
   "cell_type": "markdown",
   "id": "88eb4574",
   "metadata": {},
   "source": [
    "### <a name=\"2.1\"></a>2.1 Continuous Features Data Quality Report"
   ]
  },
  {
   "cell_type": "markdown",
   "id": "ad2139a5",
   "metadata": {},
   "source": [
    "We will create a data quality report of numerical features first. From the summary of the dataframe, all numerical features seem to have data types of `float64` or `int64`, so we should be able to produce the report using `.describe()`."
   ]
  },
  {
   "cell_type": "code",
   "execution_count": 39,
   "id": "86ac42ad",
   "metadata": {},
   "outputs": [
    {
     "data": {
      "text/html": [
       "<div>\n",
       "<style scoped>\n",
       "    .dataframe tbody tr th:only-of-type {\n",
       "        vertical-align: middle;\n",
       "    }\n",
       "\n",
       "    .dataframe tbody tr th {\n",
       "        vertical-align: top;\n",
       "    }\n",
       "\n",
       "    .dataframe thead th {\n",
       "        text-align: right;\n",
       "    }\n",
       "</style>\n",
       "<table border=\"1\" class=\"dataframe\">\n",
       "  <thead>\n",
       "    <tr style=\"text-align: right;\">\n",
       "      <th></th>\n",
       "      <th>count</th>\n",
       "      <th>mean</th>\n",
       "      <th>std</th>\n",
       "      <th>min</th>\n",
       "      <th>25%</th>\n",
       "      <th>50%</th>\n",
       "      <th>75%</th>\n",
       "      <th>max</th>\n",
       "    </tr>\n",
       "  </thead>\n",
       "  <tbody>\n",
       "    <tr>\n",
       "      <th>PRE4</th>\n",
       "      <td>470.0</td>\n",
       "      <td>3.281638</td>\n",
       "      <td>0.871395</td>\n",
       "      <td>1.44</td>\n",
       "      <td>2.60</td>\n",
       "      <td>3.16</td>\n",
       "      <td>3.8075</td>\n",
       "      <td>6.3</td>\n",
       "    </tr>\n",
       "    <tr>\n",
       "      <th>PRE5</th>\n",
       "      <td>470.0</td>\n",
       "      <td>4.568702</td>\n",
       "      <td>11.767857</td>\n",
       "      <td>0.96</td>\n",
       "      <td>1.96</td>\n",
       "      <td>2.40</td>\n",
       "      <td>3.0800</td>\n",
       "      <td>86.3</td>\n",
       "    </tr>\n",
       "    <tr>\n",
       "      <th>AGE</th>\n",
       "      <td>470.0</td>\n",
       "      <td>62.534043</td>\n",
       "      <td>8.706902</td>\n",
       "      <td>21.00</td>\n",
       "      <td>57.00</td>\n",
       "      <td>62.00</td>\n",
       "      <td>69.0000</td>\n",
       "      <td>87.0</td>\n",
       "    </tr>\n",
       "  </tbody>\n",
       "</table>\n",
       "</div>"
      ],
      "text/plain": [
       "      count       mean        std    min    25%    50%      75%   max\n",
       "PRE4  470.0   3.281638   0.871395   1.44   2.60   3.16   3.8075   6.3\n",
       "PRE5  470.0   4.568702  11.767857   0.96   1.96   2.40   3.0800  86.3\n",
       "AGE   470.0  62.534043   8.706902  21.00  57.00  62.00  69.0000  87.0"
      ]
     },
     "execution_count": 39,
     "metadata": {},
     "output_type": "execute_result"
    }
   ],
   "source": [
    "# Describe continuous features only\n",
    "df.describe().transpose()"
   ]
  },
  {
   "cell_type": "markdown",
   "id": "c82e6f75",
   "metadata": {},
   "source": [
    "From the report we can see that there are no missing values in continuous features. Central tendencies and variations seem acceptable for `PRE4` and `AGE`.  \n",
    "  \n",
    "For `PRE5`, the gap between the 3rd quartile and the maximum value is noticeably larger than the gap between the median\n",
    "and the 3rd quartile. The maximum value of 86.3 is likely to be an outlier and requires further investigation."
   ]
  },
  {
   "cell_type": "markdown",
   "id": "edf7d0c4",
   "metadata": {},
   "source": [
    "### <a name=\"2.2\"></a>2.2 Categorical Features Data Quality Report"
   ]
  },
  {
   "cell_type": "markdown",
   "id": "ace1531d",
   "metadata": {},
   "source": [
    "We will then create a data quality report of categorical features. Summary of the data frame shows that they all have `object` data type."
   ]
  },
  {
   "cell_type": "code",
   "execution_count": 40,
   "id": "76d3f49c",
   "metadata": {},
   "outputs": [
    {
     "data": {
      "text/html": [
       "<div>\n",
       "<style scoped>\n",
       "    .dataframe tbody tr th:only-of-type {\n",
       "        vertical-align: middle;\n",
       "    }\n",
       "\n",
       "    .dataframe tbody tr th {\n",
       "        vertical-align: top;\n",
       "    }\n",
       "\n",
       "    .dataframe thead th {\n",
       "        text-align: right;\n",
       "    }\n",
       "</style>\n",
       "<table border=\"1\" class=\"dataframe\">\n",
       "  <thead>\n",
       "    <tr style=\"text-align: right;\">\n",
       "      <th></th>\n",
       "      <th>count</th>\n",
       "      <th>unique</th>\n",
       "      <th>top</th>\n",
       "      <th>freq</th>\n",
       "    </tr>\n",
       "  </thead>\n",
       "  <tbody>\n",
       "    <tr>\n",
       "      <th>DGN</th>\n",
       "      <td>470</td>\n",
       "      <td>7</td>\n",
       "      <td>DGN3</td>\n",
       "      <td>349</td>\n",
       "    </tr>\n",
       "    <tr>\n",
       "      <th>PRE6</th>\n",
       "      <td>470</td>\n",
       "      <td>3</td>\n",
       "      <td>PRZ1</td>\n",
       "      <td>313</td>\n",
       "    </tr>\n",
       "    <tr>\n",
       "      <th>PRE7</th>\n",
       "      <td>470</td>\n",
       "      <td>2</td>\n",
       "      <td>F</td>\n",
       "      <td>439</td>\n",
       "    </tr>\n",
       "    <tr>\n",
       "      <th>PRE8</th>\n",
       "      <td>470</td>\n",
       "      <td>2</td>\n",
       "      <td>F</td>\n",
       "      <td>402</td>\n",
       "    </tr>\n",
       "    <tr>\n",
       "      <th>PRE9</th>\n",
       "      <td>470</td>\n",
       "      <td>2</td>\n",
       "      <td>F</td>\n",
       "      <td>439</td>\n",
       "    </tr>\n",
       "    <tr>\n",
       "      <th>PRE10</th>\n",
       "      <td>470</td>\n",
       "      <td>2</td>\n",
       "      <td>T</td>\n",
       "      <td>323</td>\n",
       "    </tr>\n",
       "    <tr>\n",
       "      <th>PRE11</th>\n",
       "      <td>470</td>\n",
       "      <td>2</td>\n",
       "      <td>F</td>\n",
       "      <td>392</td>\n",
       "    </tr>\n",
       "    <tr>\n",
       "      <th>PRE14</th>\n",
       "      <td>470</td>\n",
       "      <td>4</td>\n",
       "      <td>OC12</td>\n",
       "      <td>257</td>\n",
       "    </tr>\n",
       "    <tr>\n",
       "      <th>PRE17</th>\n",
       "      <td>470</td>\n",
       "      <td>2</td>\n",
       "      <td>F</td>\n",
       "      <td>435</td>\n",
       "    </tr>\n",
       "    <tr>\n",
       "      <th>PRE19</th>\n",
       "      <td>470</td>\n",
       "      <td>2</td>\n",
       "      <td>F</td>\n",
       "      <td>468</td>\n",
       "    </tr>\n",
       "    <tr>\n",
       "      <th>PRE25</th>\n",
       "      <td>470</td>\n",
       "      <td>2</td>\n",
       "      <td>F</td>\n",
       "      <td>462</td>\n",
       "    </tr>\n",
       "    <tr>\n",
       "      <th>PRE30</th>\n",
       "      <td>470</td>\n",
       "      <td>2</td>\n",
       "      <td>T</td>\n",
       "      <td>386</td>\n",
       "    </tr>\n",
       "    <tr>\n",
       "      <th>PRE32</th>\n",
       "      <td>470</td>\n",
       "      <td>2</td>\n",
       "      <td>F</td>\n",
       "      <td>468</td>\n",
       "    </tr>\n",
       "    <tr>\n",
       "      <th>Risk1Yr</th>\n",
       "      <td>470</td>\n",
       "      <td>2</td>\n",
       "      <td>F</td>\n",
       "      <td>400</td>\n",
       "    </tr>\n",
       "  </tbody>\n",
       "</table>\n",
       "</div>"
      ],
      "text/plain": [
       "        count unique   top freq\n",
       "DGN       470      7  DGN3  349\n",
       "PRE6      470      3  PRZ1  313\n",
       "PRE7      470      2     F  439\n",
       "PRE8      470      2     F  402\n",
       "PRE9      470      2     F  439\n",
       "PRE10     470      2     T  323\n",
       "PRE11     470      2     F  392\n",
       "PRE14     470      4  OC12  257\n",
       "PRE17     470      2     F  435\n",
       "PRE19     470      2     F  468\n",
       "PRE25     470      2     F  462\n",
       "PRE30     470      2     T  386\n",
       "PRE32     470      2     F  468\n",
       "Risk1Yr   470      2     F  400"
      ]
     },
     "execution_count": 40,
     "metadata": {},
     "output_type": "execute_result"
    }
   ],
   "source": [
    "df.describe(include = ['object']).transpose()"
   ]
  },
  {
   "cell_type": "markdown",
   "id": "704d7c87",
   "metadata": {},
   "source": [
    "From the report, we can see that there are no missing values in categorical features, and the cardinalities seem to be in line with the <em>Attribute Information</em> section of [the dataset](https://archive.ics.uci.edu/ml/datasets/Thoracic+Surgery+Data)."
   ]
  },
  {
   "cell_type": "markdown",
   "id": "b1150162",
   "metadata": {},
   "source": [
    "### <a name=\"2.3\"></a>2.3 Visualisations"
   ]
  },
  {
   "cell_type": "markdown",
   "id": "9eda993d",
   "metadata": {},
   "source": [
    "Before we plot the features, we will examine if the categorical features have any natural orders that we can use to make the visualisations easier to understand. We can skip this for binary features that are either `T` or `F`."
   ]
  },
  {
   "cell_type": "code",
   "execution_count": 41,
   "id": "31b7bb0a",
   "metadata": {},
   "outputs": [
    {
     "name": "stdout",
     "output_type": "stream",
     "text": [
      "['DGN2' 'DGN3' 'DGN4' 'DGN8' 'DGN5' 'DGN6' 'DGN1']\n",
      "['PRZ1' 'PRZ0' 'PRZ2']\n",
      "['OC14' 'OC12' 'OC11' 'OC13']\n"
     ]
    }
   ],
   "source": [
    "# Print the outcomes of the unique function applied to each of the features we are interested in\n",
    "print(df['DGN'].unique())\n",
    "print(df['PRE6'].unique())\n",
    "print(df['PRE14'].unique())"
   ]
  },
  {
   "cell_type": "markdown",
   "id": "03b80380",
   "metadata": {},
   "source": [
    "It seems that natural orders for all three features above would be to order them by numbers indicated in their values. We will define an order for the binary values as well."
   ]
  },
  {
   "cell_type": "code",
   "execution_count": 42,
   "id": "aa197575",
   "metadata": {},
   "outputs": [],
   "source": [
    "# Define orders of each category\n",
    "DGN = ['DGN1', 'DGN2', 'DGN3', 'DGN4', 'DGN5', 'DGN6', 'DGN8']\n",
    "PRZ = ['PRZ0', 'PRZ1', 'PRZ2']\n",
    "OC = ['OC11', 'OC12', 'OC13', 'OC14']\n",
    "binary = ['T', 'F']"
   ]
  },
  {
   "cell_type": "markdown",
   "id": "d4b5abef",
   "metadata": {},
   "source": [
    "We will now generate the visualisations of the features' distributions."
   ]
  },
  {
   "cell_type": "code",
   "execution_count": 43,
   "id": "abbcee80",
   "metadata": {
    "scrolled": false
   },
   "outputs": [
    {
     "data": {
      "image/png": "[encoded data removed]",
      "text/plain": [
       "<Figure size 1080x720 with 16 Axes>"
      ]
     },
     "metadata": {
      "needs_background": "light"
     },
     "output_type": "display_data"
    }
   ],
   "source": [
    "# Create the figure and axes with 4 rows and 4 columns\n",
    "fig, axes = plt.subplots(nrows=4, ncols=4, figsize=(15,10))\n",
    "\n",
    "# Set a colour palette\n",
    "sns.set_palette(\"colorblind\")\n",
    "\n",
    "# Create the plots, informing the coordinate\n",
    "sns.countplot(x='DGN', data=df, ax=axes[0, 0], order=DGN)\n",
    "sns.histplot(x='PRE4', data=df, ax=axes[0, 1])\n",
    "sns.histplot(x='PRE5', data=df, ax=axes[0, 2])\n",
    "sns.countplot(x='PRE6', data=df, ax=axes[0, 3], order=PRZ)\n",
    "\n",
    "sns.countplot(x='PRE7', data=df, ax=axes[1, 0], order=binary)\n",
    "sns.countplot(x='PRE8', data=df, ax=axes[1, 1], order=binary)\n",
    "sns.countplot(x='PRE9', data=df, ax=axes[1, 2], order=binary)\n",
    "sns.countplot(x='PRE10', data=df, ax=axes[1, 3], order=binary)\n",
    "\n",
    "sns.countplot(x='PRE11', data=df, ax=axes[2, 0], order=binary)\n",
    "sns.countplot(x='PRE14', data=df, ax=axes[2, 1], order=OC)\n",
    "sns.countplot(x='PRE17', data=df, ax=axes[2, 2], order=binary)\n",
    "sns.countplot(x='PRE19', data=df, ax=axes[2, 3], order=binary)\n",
    "\n",
    "sns.countplot(x='PRE25', data=df, ax=axes[3, 0], order=binary)\n",
    "sns.countplot(x='PRE30', data=df, ax=axes[3, 1], order=binary)\n",
    "sns.countplot(x='PRE32', data=df, ax=axes[3, 2], order=binary)\n",
    "sns.histplot(x='AGE', data=df, ax=axes[3, 3])\n",
    "\n",
    "\n",
    "# Tidy the figure layout\n",
    "plt.tight_layout()"
   ]
  },
  {
   "cell_type": "markdown",
   "id": "3d243f74",
   "metadata": {},
   "source": [
    "From the visualisation, we can see that most of the binary categorical features have dominating modes. From the numerical features, `PRE5` stands out as requiring handling strategies for outliers.\n",
    "\n",
    "* `DGN`: `DGN3` is the mode followed by `DGN2`.\n",
    "* `PRE4`: Follows a unimodal distribution skewed right.\n",
    "* `PRE5`: Seems like a unimodal distribution with several high outliers that need to be handled.\n",
    "* `PRE6`: `PRZ1` is the mode followed by `PRZ0`.\n",
    "* `PRE7`: `F` dominates the dataset with 93.4%.\n",
    "* `PRE8`: `F` dominates the dataset with 85.5%.\n",
    "* `PRE9`: `F` dominates the dataset with 93.4%.\n",
    "* `PRE10`: `T` is the mode.\n",
    "* `PRE11`: `F` dominates the dataset with 83.4%.\n",
    "* `PRE14`: `OC12` is the mode followed by `OC11`.\n",
    "* `PRE17`: `F` dominates the dataset with 92.6%.\n",
    "* `PRE19`: `F` dominates the dataset with 92.6%.\n",
    "* `PRE25`: `F` dominates the dataset with 98.3%.\n",
    "* `PRE30`: `T` dominates the dataset with 82.1%.\n",
    "* `PRE32`: `F` dominates the dataset with 99.6%.\n",
    "* `AGE`: Follows a unimodal distribution skewed left."
   ]
  },
  {
   "cell_type": "markdown",
   "id": "cad828b9",
   "metadata": {},
   "source": [
    "We will also visualise the target feature."
   ]
  },
  {
   "cell_type": "code",
   "execution_count": 44,
   "id": "72a2459d",
   "metadata": {},
   "outputs": [
    {
     "data": {
      "image/png": "[encoded data removed]",
      "text/plain": [
       "<Figure size 432x288 with 1 Axes>"
      ]
     },
     "metadata": {
      "needs_background": "light"
     },
     "output_type": "display_data"
    }
   ],
   "source": [
    "sns.countplot(x='Risk1Yr', data=df, order=boolean)\n",
    "plt.tight_layout()"
   ]
  },
  {
   "cell_type": "markdown",
   "id": "a0f2ed81",
   "metadata": {},
   "source": [
    "`F` dominates the target dataset with 85.1%. We have a moderately imbalanced dataset."
   ]
  },
  {
   "cell_type": "markdown",
   "id": "545e65c9",
   "metadata": {},
   "source": [
    "### <a name=\"2.4\"></a>2.4 Data Quality Plan"
   ]
  },
  {
   "cell_type": "markdown",
   "id": "6458edbc",
   "metadata": {},
   "source": [
    "As we have seen so far, the dataset does not have any missing values or irregular cardinality problems.  \n",
    "  \n",
    "For the data quality plan, we will take a closer look at the outliers in `PRE5`. The data recorded here, FEV1, is a parameter of spirometry. As we can see in the graph below[[3]](#C3), normal values for FEV1 for adults are roughly between 2 and 4.6. It is unlikely that the maximum value of 86.3 and other higher values we can see from the visualisation are representative of human lung capacity. We will use a clamp transformation to handle these values, since the visualisation shows a unimodal distribution around normal values for FEV1."
   ]
  },
  {
   "cell_type": "code",
   "execution_count": 47,
   "id": "84d01cc3",
   "metadata": {},
   "outputs": [
    {
     "data": {
      "image/png": "[encoded data removed]",
      "text/plain": [
       "<IPython.core.display.Image object>"
      ]
     },
     "execution_count": 47,
     "metadata": {
      "image/png": {
       "height": 430,
       "width": 225
      }
     },
     "output_type": "execute_result"
    }
   ],
   "source": [
    "display.Image(\"https://upload.wikimedia.org/wikipedia/commons/3/39/Normal_values_for_FVC%2C_FEV1_and_FEF_25-75.png\", width = 225, height = 430)"
   ]
  },
  {
   "cell_type": "markdown",
   "id": "ff40279e",
   "metadata": {},
   "source": [
    "### <a name=\"2.5\"></a>2.5 Handling Strategies for the Data Quality Issues"
   ]
  },
  {
   "cell_type": "markdown",
   "id": "fcabfb28",
   "metadata": {},
   "source": [
    "|Feature|Data Quality Issue|Potential Handling Strategies|\n",
    "|:----------- |:----------- |:----------- |\n",
    "| PRE5 | Outliers (high)| Clamp transformation (manual: 0, 4.76) |\n",
    "\n",
    "We will calculate clamp threshold as the 3rd quartile plus 1.5 times the inter-quartile range.  \n",
    "  \n",
    "$upper = 3.08 + 1.5 × 1.12 = 4.76$ \n",
    "  \n",
    "The threashold of 4.76 fits the normal values of FEV1 shown in above graph. The upper clamp threshold could also be calculated as the mean value of a feature plus 2 times the standard deviation, but we will not use this calculation since both mean and standard deviation of `PRE5` are affected by the outliers.\n",
    "\n",
    "The lower threshold can be 0 since lung cancer patients may have very low lung capacity, but will not have a negative FEV1 value."
   ]
  },
  {
   "cell_type": "markdown",
   "id": "7654fb9f",
   "metadata": {},
   "source": [
    "## <a name=\"S3\"></a>Section 3: The Evaluation"
   ]
  },
  {
   "cell_type": "markdown",
   "id": "63d64f61",
   "metadata": {},
   "source": [
    "### <a name=\"3.1\"></a>3.1 Types of Experiments"
   ]
  },
  {
   "cell_type": "markdown",
   "id": "b55f9d50",
   "metadata": {},
   "source": [
    "The dataset from `ThoraricSurgery.arff` has 470 instances. We will use k-fold cross validation with $k=5$.\n",
    "\n",
    "We will not be using hold-out sampling, since we do not have a very large dataset. Leave-one-out cross validation and bootstrapping cross validation have also been ruled out since they are both methods best used for very small datasets (less than 300 for bootstrapping). The dataset does not include a time dimension, so we will not use out-of-time sampling.\n",
    "\n",
    "We would like to keep the value of k between 3 and 8 to avoid repetition in the experiment. $k=5$ has been chosen since the dataset size of 470 is divisible by 5."
   ]
  },
  {
   "cell_type": "markdown",
   "id": "88abb274",
   "metadata": {},
   "source": [
    "### <a name=\"3.2\"></a>3.2 Relevant Metrics"
   ]
  },
  {
   "cell_type": "markdown",
   "id": "a71f983f",
   "metadata": {},
   "source": [
    "To measure the performance of each fold, we will use a confusion matrix with average class accuracy based on a harmonic mean for both of the proposed solutions.\n",
    "\n",
    "Since we have a binary target feature of `T` or `F`, and a positive prediction (a surgery is likely to lead to death within 1 year) is more important than a negative one, precision, recall, and the F1 measure would seem suitable for evaluation. However, we have a dominant target level of `F` which could make the  performance of the model on `F` level overwhelm the performance on the `T` level in the accuracy calculation. We will use harmonic means when calculating average class accuracy, since arithmetic means can be susceptible to influence of large outliers.\n",
    "\n",
    "If we are to compare multiple modeling techniques to one in the next part of the assignment, we would also like to use ROC index since ROC curves can be quite robust in the presence of imbalanced data.  \n",
    "\n",
    "We have ruled out profit matrix since quantifiable profit will not be available for this case."
   ]
  },
  {
   "cell_type": "markdown",
   "id": "c6141dcc",
   "metadata": {},
   "source": [
    "<a name=\"C1\">[1]</a>: Health Service Executive, <em>Cancer Incidence, Survival and Mortality Data</em>, https://www.hse.ie/eng/services/list/5/cancer/pubs/intelligence/registrydata.html (Accessed 18th March 2022)\n",
    "\n",
    "<a name=\"C2\">[2]</a>: Nuffield Trust, <em>Cancer Survival Rates</em>,\n",
    " https://www.nuffieldtrust.org.uk/resource/cancer-survival-rates#background (Accessed 19th March 2022)\n",
    " \n",
    "<a name=\"C3\">[3]</a>: Wikipedia, <em>Spirometry</em>,\n",
    " https://en.wikipedia.org/wiki/Spirometry#/media/File:Normal_values_for_FVC,_FEV1_and_FEF_25-75.png (Accessed 19th March 2022)"
   ]
  }
 ],
 "metadata": {
  "kernelspec": {
   "display_name": "Python 3",
   "language": "python",
   "name": "python3"
  },
  "language_info": {
   "codemirror_mode": {
    "name": "ipython",
    "version": 3
   },
   "file_extension": ".py",
   "mimetype": "text/x-python",
   "name": "python",
   "nbconvert_exporter": "python",
   "pygments_lexer": "ipython3",
   "version": "3.8.8"
  }
 },
 "nbformat": 4,
 "nbformat_minor": 5
}
